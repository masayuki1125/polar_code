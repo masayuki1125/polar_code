{
 "cells": [
  {
   "cell_type": "code",
   "execution_count": 4,
   "source": [
    "import numpy as np\n",
    "\n",
    "a=np.arange(8)\n",
    "b=np.arange(8)\n",
    "print(a)\n",
    "\n",
    "tmp1=np.reshape(a,[2,len(a)//2],order=\"F\")\n",
    "print(tmp1)\n",
    "c=np.concatenate([a+b,b])\n",
    "print(c)\n"
   ],
   "outputs": [
    {
     "output_type": "stream",
     "name": "stdout",
     "text": [
      "[0 1 2 3 4 5 6 7]\n",
      "[[0 2 4 6]\n",
      " [1 3 5 7]]\n",
      "[ 0  2  4  6  8 10 12 14  0  1  2  3  4  5  6  7]\n"
     ]
    }
   ],
   "metadata": {}
  },
  {
   "cell_type": "code",
   "execution_count": null,
   "source": [],
   "outputs": [],
   "metadata": {}
  }
 ],
 "metadata": {
  "orig_nbformat": 4,
  "language_info": {
   "name": "python",
   "version": "3.7.10",
   "mimetype": "text/x-python",
   "codemirror_mode": {
    "name": "ipython",
    "version": 3
   },
   "pygments_lexer": "ipython3",
   "nbconvert_exporter": "python",
   "file_extension": ".py"
  },
  "kernelspec": {
   "name": "python3",
   "display_name": "Python 3.7.10 64-bit ('3.7.10': pyenv)"
  },
  "interpreter": {
   "hash": "5bed13c6ca82b80bcc3f2c0cc12d507f1ad15eb73f54f6076ce610d080eb7e68"
  }
 },
 "nbformat": 4,
 "nbformat_minor": 2
}