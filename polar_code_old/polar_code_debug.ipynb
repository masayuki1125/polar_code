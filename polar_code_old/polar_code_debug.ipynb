{
 "cells": [
  {
   "cell_type": "code",
   "execution_count": 8,
   "metadata": {},
   "outputs": [],
   "source": [
    "#必要なライブラリ、定数\n",
    "import numpy as np\n",
    "import random\n",
    "import time\n",
    "import copy\n",
    "random.seed(time.time())\n",
    "#below is the info of basemat\n",
    "N=16 #log_2(N)==int <-- requirement\n",
    "K=8\n",
    "design_SNR=1\n",
    "\n",
    "itr_num=np.log2(N)\n",
    "itr_num=itr_num.astype(int)\n",
    "\n",
    "G2=np.array([[1,0],[1,1]],dtype=np.int)"
   ]
  },
  {
   "cell_type": "code",
   "execution_count": 9,
   "metadata": {},
   "outputs": [
    {
     "name": "stdout",
     "output_type": "stream",
     "text": [
      "[[1 0 0 0 0 0 0 0 0 0 0 0 0 0 0 0]\n",
      " [1 1 0 0 0 0 0 0 0 0 0 0 0 0 0 0]\n",
      " [1 0 1 0 0 0 0 0 0 0 0 0 0 0 0 0]\n",
      " [1 1 1 1 0 0 0 0 0 0 0 0 0 0 0 0]\n",
      " [1 0 0 0 1 0 0 0 0 0 0 0 0 0 0 0]\n",
      " [1 1 0 0 1 1 0 0 0 0 0 0 0 0 0 0]\n",
      " [1 0 1 0 1 0 1 0 0 0 0 0 0 0 0 0]\n",
      " [1 1 1 1 1 1 1 1 0 0 0 0 0 0 0 0]\n",
      " [1 0 0 0 0 0 0 0 1 0 0 0 0 0 0 0]\n",
      " [1 1 0 0 0 0 0 0 1 1 0 0 0 0 0 0]\n",
      " [1 0 1 0 0 0 0 0 1 0 1 0 0 0 0 0]\n",
      " [1 1 1 1 0 0 0 0 1 1 1 1 0 0 0 0]\n",
      " [1 0 0 0 1 0 0 0 1 0 0 0 1 0 0 0]\n",
      " [1 1 0 0 1 1 0 0 1 1 0 0 1 1 0 0]\n",
      " [1 0 1 0 1 0 1 0 1 0 1 0 1 0 1 0]\n",
      " [1 1 1 1 1 1 1 1 1 1 1 1 1 1 1 1]]\n"
     ]
    }
   ],
   "source": [
    "def tensordot(A):\n",
    "  tmp0=np.zeros((A.shape[0],A.shape[1]),dtype=np.int)\n",
    "  tmp1=np.append(A,tmp0,axis=1)\n",
    "  #print(tmp1)\n",
    "  tmp2=np.append(A,A,axis=1)\n",
    "  #print(tmp2)\n",
    "  tmp3=np.append(tmp1,tmp2,axis=0)\n",
    "  #print(tmp3)\n",
    "  return tmp3\n",
    "\n",
    "Gres=G2\n",
    "for i in range(itr_num-1):\n",
    "  #print(i)\n",
    "  Gres=tensordot(Gres)\n",
    "print(Gres)"
   ]
  },
  {
   "cell_type": "code",
   "execution_count": 10,
   "metadata": {},
   "outputs": [],
   "source": [
    "def Bhattacharyya_bounds(N,K,EdB):\n",
    "  E = 10 ** (EdB / 10)\n",
    "  itr_num=np.log2(N)\n",
    "  itr_num=itr_num.astype(int)\n",
    "  z=np.zeros(N)\n",
    "  z[0]=np.exp(-E)\n",
    "  for j in range(itr_num):\n",
    "    tmp=2**(j)\n",
    "    for t in range(tmp):\n",
    "      T=z[t]\n",
    "      z[t]=2*T-T**2\n",
    "      z[tmp+t]=T**2\n",
    "  res=indices_of_elements(z,N-K)\n",
    "  return res\n",
    "\n",
    "def indices_of_elements(v,l):\n",
    "  tmp=np.argsort(v)[::-1]\n",
    "  np.savetxt(\"frozen_bit.txt\",tmp)\n",
    "  res=tmp[0:l]\n",
    "  return res"
   ]
  },
  {
   "cell_type": "code",
   "execution_count": 11,
   "metadata": {},
   "outputs": [],
   "source": [
    "def generate_codeword(N,Gres):\n",
    "  S=np.zeros(N)\n",
    "  for i in range(N):\n",
    "    S[i]=random.randrange(0,2)\n",
    "    np.put(S,frozen_bit,0)\n",
    "  U=(S@Gres)%2\n",
    "  #print(U.shape)\n",
    "  return S,U"
   ]
  },
  {
   "cell_type": "code",
   "execution_count": 12,
   "metadata": {},
   "outputs": [],
   "source": [
    "def AWGN_channel(EbNodB,codeword):\n",
    "  #modulation-channel\n",
    "  # 送信側アンテナ数\n",
    "  M =1\n",
    "  # 受信側アンテナ数\n",
    "  N = 1\n",
    "  # 送信ビット列\n",
    "  TX_bit =copy.deepcopy(codeword)\n",
    "  # 送信ビット数\n",
    "  bit_num =codeword.shape[1]\n",
    "\n",
    "  # Additive Gaussian White Noiseの生成する際のパラメータ設定\n",
    "  EbNo = 10 ** (EbNodB / 10)\n",
    "  No=1/EbNo #Eb=1(fixed)\n",
    "\n",
    "  # 0 -> 1, 1 -> -1としてBPSK変調\n",
    "  TX_BPSK = TX_bit\n",
    "  TX_BPSK[TX_bit==1]=-1\n",
    "  TX_BPSK[TX_bit==0]=1\n",
    "\n",
    "  # AWGN雑音の生成\n",
    "  noise = np.random.normal(0, np.sqrt(No / 2), (M, bit_num)) \\\n",
    "          #+ 1j * np.random.normal(0, np.sqrt(No / 2), (M, bit_num))\n",
    "\n",
    "  # AWGN通信路 = 送信シンボル間干渉が生じないような通信路で送信\n",
    "  RX_BPSK = TX_BPSK + noise\n",
    "\n",
    "  # 以下のprint関数の出力を表示すると、Noとほぼ一致するはず\n",
    "  #print(np.dot(noise[0, :], np.conj(noise[0, :]))/bit_num)\n",
    "  \n",
    "  return RX_BPSK\n",
    "\n",
    "#output \"RX_BPSK\"(2D(M,len(codeword)))-array\n"
   ]
  },
  {
   "cell_type": "code",
   "execution_count": 13,
   "metadata": {},
   "outputs": [],
   "source": [
    "#SC復号\n",
    "\n",
    "#node operation\n",
    "def SC_decoding(a):\n",
    "  global t\n",
    "  #interior node operation\n",
    "  if a.shape[0]==1:\n",
    "    #frozen_bit or not\n",
    "    if np.any(frozen_bit==t):\n",
    "      tmp=np.zeros(1)\n",
    "    elif a>=0:\n",
    "      tmp=np.zeros(1)\n",
    "    elif a<0:\n",
    "      tmp=np.ones(1)\n",
    "    EST_codeword[t]=tmp\n",
    "    #print(t)\n",
    "    t+=1\n",
    "    #if t>=N:\n",
    "      #exit()\n",
    "    return tmp\n",
    "\n",
    "  #step1 left input a output u1_hat\n",
    "  tmp1=np.split(a,2)\n",
    "  tmp10=a.reshape([2,a.shape[0]//2])\n",
    "  f_half_a=np.sign(tmp1[0])*np.sign(tmp1[1])*np.amin(np.abs(tmp10),axis=0)\n",
    "  u1=SC_decoding(f_half_a)\n",
    "\n",
    "  #step2 right input a,u1_hat output u2_hat \n",
    "  tmp2=np.split(a,2)\n",
    "  g_half_a=tmp2[1]+(1-2*u1)*tmp2[0] \n",
    "  u2=SC_decoding(g_half_a)\n",
    "  \n",
    "  #step3 up input u1,u2 output a_hat\n",
    "  res=np.concatenate([(u1+u2)%2,u2])\n",
    "  return res"
   ]
  },
  {
   "cell_type": "code",
   "execution_count": 14,
   "metadata": {},
   "outputs": [
    {
     "name": "stdout",
     "output_type": "stream",
     "text": [
      "[ 0  8  4  2  1 12 10  6]\n",
      "[0. 0. 0. 1. 0. 0. 0. 0. 0. 0. 0. 1. 0. 1. 0. 1.] [0. 0. 1. 1. 0. 0. 1. 1. 1. 1. 0. 0. 0. 0. 1. 1.]\n",
      "[-0.41800808  0.76559817 -0.49654886 -1.4183963   0.68090208  0.92109585\n",
      " -1.02077393 -0.54000173  0.44218489 -1.69908039  2.8304755  -0.0090189\n",
      "  1.03918014 -0.02486647 -0.00965457 -1.69812198]\n",
      "[-1.67203233  3.0623927  -1.98619546 -5.67358518  2.72360834  3.68438338\n",
      " -4.08309571 -2.16000692  1.76873957 -6.79632157 11.32190201 -0.03607562\n",
      "  4.15672055 -0.09946586 -0.03861829 -6.79248794]\n"
     ]
    },
    {
     "data": {
      "text/plain": [
       "array([0., 0., 1., 1., 0., 0., 1., 1., 1., 1., 0., 0., 0., 0., 1., 1.])"
      ]
     },
     "execution_count": 14,
     "metadata": {},
     "output_type": "execute_result"
    }
   ],
   "source": [
    "EbNodB=0\n",
    "#frozen bit を定める\n",
    "\n",
    "frozen_bit=Bhattacharyya_bounds(16,8,-5)\n",
    "\n",
    "sourcecode,codeword_1D=generate_codeword(N,Gres) #1D-array codeword\n",
    "codeword=codeword_1D[...,np.newaxis] \n",
    "codeword=np.transpose(codeword) #2D-array codeword\n",
    "print(frozen_bit)\n",
    "print(sourcecode,codeword_1D)\n",
    "RX_BPSK=AWGN_channel(EbNodB,codeword)\n",
    "\n",
    "#受信信号の1列ごとの受け渡し(数値をx軸のみに変更)\n",
    "y=RX_BPSK[0,:].real #1D-array codeword\n",
    "print(y)\n",
    "\n",
    "#LLR\n",
    "EbNo = 10 ** (EbNodB / 10)\n",
    "No=1/EbNo\n",
    "Lc=4*y/No\n",
    "print(Lc)\n",
    "t=0\n",
    "EST_codeword=np.zeros(N)\n",
    "SC_decoding(Lc)\n",
    "#t=0\n",
    "#EST_codeword=np.zeros(N)\n",
    "#SC_decoding(y)\n",
    "\n",
    "#EST_codeword=np.sign(y)\n",
    "#EST_codeword[EST_codeword==1]=0\n",
    "#EST_codeword[EST_codeword==-1]=1\n",
    "#EST_codeword=(EST_codeword@Gres)%2\n",
    "#print(sourcecode)\n",
    "#print(EST_codeword)\n",
    "#print(np.sum(sourcecode!=EST_codeword))\n",
    "#print(sourcecode)\n",
    "#print(EST_codeword)\n",
    "#print(np.any(frozen_bit==500))\n",
    "\n",
    "#input \"PC_MATRIX\"(2D(M,:)-array)"
   ]
  }
 ],
 "metadata": {
  "interpreter": {
   "hash": "5bed13c6ca82b80bcc3f2c0cc12d507f1ad15eb73f54f6076ce610d080eb7e68"
  },
  "kernelspec": {
   "display_name": "Python 3.7.10 64-bit ('3.7.10': pyenv)",
   "name": "python3"
  },
  "language_info": {
   "codemirror_mode": {
    "name": "ipython",
    "version": 3
   },
   "file_extension": ".py",
   "mimetype": "text/x-python",
   "name": "python",
   "nbconvert_exporter": "python",
   "pygments_lexer": "ipython3",
   "version": "3.7.10"
  },
  "orig_nbformat": 4
 },
 "nbformat": 4,
 "nbformat_minor": 2
}