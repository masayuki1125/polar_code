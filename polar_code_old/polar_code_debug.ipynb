{
 "cells": [
  {
   "cell_type": "code",
   "execution_count": 41,
   "metadata": {},
   "outputs": [],
   "source": [
    "#必要なライブラリ、定数\n",
    "import numpy as np\n",
    "import random\n",
    "import time\n",
    "import math\n",
    "import copy\n",
    "from decimal import *\n",
    "random.seed(time.time())\n",
    "#below is the info of basemat\n",
    "N=2048 #log_2(N)==int <-- requirement\n",
    "K=8\n",
    "design_SNR=1\n",
    "\n",
    "itr_num=np.log2(N)\n",
    "itr_num=itr_num.astype(int)\n",
    "\n",
    "G2=np.array([[1,0],[1,1]],dtype=np.int)"
   ]
  },
  {
   "cell_type": "code",
   "execution_count": 12,
   "metadata": {},
   "outputs": [
    {
     "name": "stdout",
     "output_type": "stream",
     "text": [
      "[[1 0 0 0 0 0 0 0 0 0 0 0 0 0 0 0]\n",
      " [1 1 0 0 0 0 0 0 0 0 0 0 0 0 0 0]\n",
      " [1 0 1 0 0 0 0 0 0 0 0 0 0 0 0 0]\n",
      " [1 1 1 1 0 0 0 0 0 0 0 0 0 0 0 0]\n",
      " [1 0 0 0 1 0 0 0 0 0 0 0 0 0 0 0]\n",
      " [1 1 0 0 1 1 0 0 0 0 0 0 0 0 0 0]\n",
      " [1 0 1 0 1 0 1 0 0 0 0 0 0 0 0 0]\n",
      " [1 1 1 1 1 1 1 1 0 0 0 0 0 0 0 0]\n",
      " [1 0 0 0 0 0 0 0 1 0 0 0 0 0 0 0]\n",
      " [1 1 0 0 0 0 0 0 1 1 0 0 0 0 0 0]\n",
      " [1 0 1 0 0 0 0 0 1 0 1 0 0 0 0 0]\n",
      " [1 1 1 1 0 0 0 0 1 1 1 1 0 0 0 0]\n",
      " [1 0 0 0 1 0 0 0 1 0 0 0 1 0 0 0]\n",
      " [1 1 0 0 1 1 0 0 1 1 0 0 1 1 0 0]\n",
      " [1 0 1 0 1 0 1 0 1 0 1 0 1 0 1 0]\n",
      " [1 1 1 1 1 1 1 1 1 1 1 1 1 1 1 1]]\n"
     ]
    }
   ],
   "source": [
    "def tensordot(A):\n",
    "  tmp0=np.zeros((A.shape[0],A.shape[1]),dtype=np.int)\n",
    "  tmp1=np.append(A,tmp0,axis=1)\n",
    "  #print(tmp1)\n",
    "  tmp2=np.append(A,A,axis=1)\n",
    "  #print(tmp2)\n",
    "  tmp3=np.append(tmp1,tmp2,axis=0)\n",
    "  #print(tmp3)\n",
    "  return tmp3\n",
    "\n",
    "Gres=G2\n",
    "for i in range(itr_num-1):\n",
    "  #print(i)\n",
    "  Gres=tensordot(Gres)\n",
    "print(Gres)"
   ]
  },
  {
   "cell_type": "code",
   "execution_count": 86,
   "metadata": {},
   "outputs": [
    {
     "name": "stdout",
     "output_type": "stream",
     "text": [
      "E= 3.720075976020836e-44\n",
      "[3.80935780e-41 7.08555022e-85 1.41711004e-84 ... 0.00000000e+00\n",
      " 0.00000000e+00 0.00000000e+00]\n",
      "[  0 512 256 ... 678 677 511]\n"
     ]
    }
   ],
   "source": [
    "def Bhattacharyya_bounds(N,K,EdB):\n",
    "  E=np.zeros(1,dtype=np.float128)\n",
    "  E =10 ** EdB / 10\n",
    "  itr_num=np.log2(N)\n",
    "  itr_num=itr_num.astype(int)\n",
    "  z=np.zeros(N,dtype=np.float128)\n",
    "\n",
    "  #10^10かけて計算する\n",
    "\n",
    "  z[0]=math.exp(-E)\n",
    "\n",
    "  print(\"E=\",np.exp(-E))\n",
    "\n",
    "  for j in range(1,itr_num+1):\n",
    "    tmp=2**(j)//2\n",
    "\n",
    "    for t in range(tmp):\n",
    "      T=z[t]\n",
    "      z[t]=2*T-T**2\n",
    "      z[tmp+t]=T**2\n",
    "  print(z)\n",
    "  np.savetxt(\"z\",z)\n",
    "  res=indices_of_elements(z,N-K)\n",
    "\n",
    "  return res\n",
    "\n",
    "def indices_of_elements(v,l):\n",
    "  tmp=np.argsort(v)[::-1]\n",
    "  print(tmp)\n",
    "  res=tmp[0:l]\n",
    "  return res\n",
    "\n",
    "frozen_bit=Bhattacharyya_bounds(1024,0,3)\n",
    "np.savetxt(\"frozen_bit.txt\",frozen_bit,fmt='%i')"
   ]
  },
  {
   "cell_type": "code",
   "execution_count": 71,
   "metadata": {},
   "outputs": [
    {
     "ename": "AttributeError",
     "evalue": "'decimal.Decimal' object has no attribute 'dtype'",
     "output_type": "error",
     "traceback": [
      "\u001b[0;31m---------------------------------------------------------------------------\u001b[0m",
      "\u001b[0;31mAttributeError\u001b[0m                            Traceback (most recent call last)",
      "\u001b[0;32m<ipython-input-71-3d390e8737d8>\u001b[0m in \u001b[0;36m<module>\u001b[0;34m\u001b[0m\n\u001b[1;32m      1\u001b[0m \u001b[0ma\u001b[0m\u001b[0;34m=\u001b[0m\u001b[0mDecimal\u001b[0m\u001b[0;34m(\u001b[0m\u001b[0;34m'0.3'\u001b[0m\u001b[0;34m)\u001b[0m\u001b[0;34m-\u001b[0m\u001b[0mDecimal\u001b[0m\u001b[0;34m(\u001b[0m\u001b[0;34m'0.2'\u001b[0m\u001b[0;34m)\u001b[0m\u001b[0;34m\u001b[0m\u001b[0;34m\u001b[0m\u001b[0m\n\u001b[0;32m----> 2\u001b[0;31m \u001b[0mprint\u001b[0m\u001b[0;34m(\u001b[0m\u001b[0ma\u001b[0m\u001b[0;34m.\u001b[0m\u001b[0mdtype\u001b[0m\u001b[0;34m)\u001b[0m\u001b[0;34m\u001b[0m\u001b[0;34m\u001b[0m\u001b[0m\n\u001b[0m",
      "\u001b[0;31mAttributeError\u001b[0m: 'decimal.Decimal' object has no attribute 'dtype'"
     ]
    }
   ],
   "source": [
    "a=Decimal('0.3')-Decimal('0.2')\n"
   ]
  },
  {
   "cell_type": "code",
   "execution_count": null,
   "metadata": {},
   "outputs": [],
   "source": [
    "def generate_codeword(N,Gres):\n",
    "  S=np.zeros(N)\n",
    "  for i in range(N):\n",
    "    S[i]=random.randrange(0,2)\n",
    "    np.put(S,frozen_bit,0)\n",
    "  U=(S@Gres)%2\n",
    "  #print(U.shape)\n",
    "  return S,U"
   ]
  },
  {
   "cell_type": "code",
   "execution_count": null,
   "metadata": {},
   "outputs": [],
   "source": [
    "def AWGN_channel(EbNodB,codeword):\n",
    "  #modulation-channel\n",
    "  # 送信側アンテナ数\n",
    "  M =1\n",
    "  # 受信側アンテナ数\n",
    "  N = 1\n",
    "  # 送信ビット列\n",
    "  TX_bit =copy.deepcopy(codeword)\n",
    "  # 送信ビット数\n",
    "  bit_num =codeword.shape[1]\n",
    "\n",
    "  # Additive Gaussian White Noiseの生成する際のパラメータ設定\n",
    "  EbNo = 10 ** (EbNodB / 10)\n",
    "  No=1/EbNo #Eb=1(fixed)\n",
    "\n",
    "  # 0 -> 1, 1 -> -1としてBPSK変調\n",
    "  TX_BPSK = TX_bit\n",
    "  TX_BPSK[TX_bit==1]=-1\n",
    "  TX_BPSK[TX_bit==0]=1\n",
    "\n",
    "  # AWGN雑音の生成\n",
    "  noise = np.random.normal(0, np.sqrt(No / 2), (M, bit_num)) \\\n",
    "          #+ 1j * np.random.normal(0, np.sqrt(No / 2), (M, bit_num))\n",
    "\n",
    "  # AWGN通信路 = 送信シンボル間干渉が生じないような通信路で送信\n",
    "  RX_BPSK = TX_BPSK + noise\n",
    "\n",
    "  # 以下のprint関数の出力を表示すると、Noとほぼ一致するはず\n",
    "  #print(np.dot(noise[0, :], np.conj(noise[0, :]))/bit_num)\n",
    "  \n",
    "  return RX_BPSK\n",
    "\n",
    "#output \"RX_BPSK\"(2D(M,len(codeword)))-array\n"
   ]
  },
  {
   "cell_type": "code",
   "execution_count": null,
   "metadata": {},
   "outputs": [],
   "source": [
    "#SC復号\n",
    "\n",
    "#node operation\n",
    "def SC_decoding(a):\n",
    "  global t\n",
    "  #interior node operation\n",
    "  if a.shape[0]==1:\n",
    "    #frozen_bit or not\n",
    "    if np.any(frozen_bit==t):\n",
    "      tmp=np.zeros(1)\n",
    "    elif a>=0:\n",
    "      tmp=np.zeros(1)\n",
    "    elif a<0:\n",
    "      tmp=np.ones(1)\n",
    "    EST_codeword[t]=tmp\n",
    "    #print(t)\n",
    "    t+=1\n",
    "    #if t>=N:\n",
    "      #exit()\n",
    "    return tmp\n",
    "\n",
    "  #step1 left input a output u1_hat\n",
    "  tmp1=np.split(a,2)\n",
    "  f_half_a=2*np.arctanh(np.tanh(tmp1[0]/2)*np.tanh(tmp1[1]/2))\n",
    "  u1=SC_decoding(f_half_a)\n",
    "\n",
    "  #step2 right input a,u1_hat output u2_hat \n",
    "  tmp2=np.split(a,2)\n",
    "  g_half_a=tmp2[1]+(1-2*u1)*tmp2[0] \n",
    "  u2=SC_decoding(g_half_a)\n",
    "  \n",
    "  #step3 up input u1,u2 output a_hat\n",
    "  res=np.concatenate([(u1+u2)%2,u2])\n",
    "  return res"
   ]
  },
  {
   "cell_type": "code",
   "execution_count": null,
   "metadata": {},
   "outputs": [
    {
     "ename": "IndexError",
     "evalue": "index 256 is out of bounds for axis 0 with size 16",
     "output_type": "error",
     "traceback": [
      "\u001b[0;31m---------------------------------------------------------------------------\u001b[0m",
      "\u001b[0;31mIndexError\u001b[0m                                Traceback (most recent call last)",
      "\u001b[0;32m<ipython-input-7-a68422da7a5d>\u001b[0m in \u001b[0;36m<module>\u001b[0;34m\u001b[0m\n\u001b[1;32m      4\u001b[0m \u001b[0;34m\u001b[0m\u001b[0m\n\u001b[1;32m      5\u001b[0m \u001b[0;34m\u001b[0m\u001b[0m\n\u001b[0;32m----> 6\u001b[0;31m \u001b[0msourcecode\u001b[0m\u001b[0;34m,\u001b[0m\u001b[0mcodeword_1D\u001b[0m\u001b[0;34m=\u001b[0m\u001b[0mgenerate_codeword\u001b[0m\u001b[0;34m(\u001b[0m\u001b[0mN\u001b[0m\u001b[0;34m,\u001b[0m\u001b[0mGres\u001b[0m\u001b[0;34m)\u001b[0m \u001b[0;31m#1D-array codeword\u001b[0m\u001b[0;34m\u001b[0m\u001b[0;34m\u001b[0m\u001b[0m\n\u001b[0m\u001b[1;32m      7\u001b[0m \u001b[0mcodeword\u001b[0m\u001b[0;34m=\u001b[0m\u001b[0mcodeword_1D\u001b[0m\u001b[0;34m[\u001b[0m\u001b[0;34m...\u001b[0m\u001b[0;34m,\u001b[0m\u001b[0mnp\u001b[0m\u001b[0;34m.\u001b[0m\u001b[0mnewaxis\u001b[0m\u001b[0;34m]\u001b[0m\u001b[0;34m\u001b[0m\u001b[0;34m\u001b[0m\u001b[0m\n\u001b[1;32m      8\u001b[0m \u001b[0mcodeword\u001b[0m\u001b[0;34m=\u001b[0m\u001b[0mnp\u001b[0m\u001b[0;34m.\u001b[0m\u001b[0mtranspose\u001b[0m\u001b[0;34m(\u001b[0m\u001b[0mcodeword\u001b[0m\u001b[0;34m)\u001b[0m \u001b[0;31m#2D-array codeword\u001b[0m\u001b[0;34m\u001b[0m\u001b[0;34m\u001b[0m\u001b[0m\n",
      "\u001b[0;32m<ipython-input-4-6aac7ba8b640>\u001b[0m in \u001b[0;36mgenerate_codeword\u001b[0;34m(N, Gres)\u001b[0m\n\u001b[1;32m      3\u001b[0m   \u001b[0;32mfor\u001b[0m \u001b[0mi\u001b[0m \u001b[0;32min\u001b[0m \u001b[0mrange\u001b[0m\u001b[0;34m(\u001b[0m\u001b[0mN\u001b[0m\u001b[0;34m)\u001b[0m\u001b[0;34m:\u001b[0m\u001b[0;34m\u001b[0m\u001b[0;34m\u001b[0m\u001b[0m\n\u001b[1;32m      4\u001b[0m     \u001b[0mS\u001b[0m\u001b[0;34m[\u001b[0m\u001b[0mi\u001b[0m\u001b[0;34m]\u001b[0m\u001b[0;34m=\u001b[0m\u001b[0mrandom\u001b[0m\u001b[0;34m.\u001b[0m\u001b[0mrandrange\u001b[0m\u001b[0;34m(\u001b[0m\u001b[0;36m0\u001b[0m\u001b[0;34m,\u001b[0m\u001b[0;36m2\u001b[0m\u001b[0;34m)\u001b[0m\u001b[0;34m\u001b[0m\u001b[0;34m\u001b[0m\u001b[0m\n\u001b[0;32m----> 5\u001b[0;31m     \u001b[0mnp\u001b[0m\u001b[0;34m.\u001b[0m\u001b[0mput\u001b[0m\u001b[0;34m(\u001b[0m\u001b[0mS\u001b[0m\u001b[0;34m,\u001b[0m\u001b[0mfrozen_bit\u001b[0m\u001b[0;34m,\u001b[0m\u001b[0;36m0\u001b[0m\u001b[0;34m)\u001b[0m\u001b[0;34m\u001b[0m\u001b[0;34m\u001b[0m\u001b[0m\n\u001b[0m\u001b[1;32m      6\u001b[0m   \u001b[0mU\u001b[0m\u001b[0;34m=\u001b[0m\u001b[0;34m(\u001b[0m\u001b[0mS\u001b[0m\u001b[0;34m@\u001b[0m\u001b[0mGres\u001b[0m\u001b[0;34m)\u001b[0m\u001b[0;34m%\u001b[0m\u001b[0;36m2\u001b[0m\u001b[0;34m\u001b[0m\u001b[0;34m\u001b[0m\u001b[0m\n\u001b[1;32m      7\u001b[0m   \u001b[0;31m#print(U.shape)\u001b[0m\u001b[0;34m\u001b[0m\u001b[0;34m\u001b[0m\u001b[0;34m\u001b[0m\u001b[0m\n",
      "\u001b[0;32m<__array_function__ internals>\u001b[0m in \u001b[0;36mput\u001b[0;34m(*args, **kwargs)\u001b[0m\n",
      "\u001b[0;32m~/.pyenv/versions/3.7.10/lib/python3.7/site-packages/numpy/core/fromnumeric.py\u001b[0m in \u001b[0;36mput\u001b[0;34m(a, ind, v, mode)\u001b[0m\n\u001b[1;32m    541\u001b[0m                         \"not {name}\".format(name=type(a).__name__))\n\u001b[1;32m    542\u001b[0m \u001b[0;34m\u001b[0m\u001b[0m\n\u001b[0;32m--> 543\u001b[0;31m     \u001b[0;32mreturn\u001b[0m \u001b[0mput\u001b[0m\u001b[0;34m(\u001b[0m\u001b[0mind\u001b[0m\u001b[0;34m,\u001b[0m \u001b[0mv\u001b[0m\u001b[0;34m,\u001b[0m \u001b[0mmode\u001b[0m\u001b[0;34m=\u001b[0m\u001b[0mmode\u001b[0m\u001b[0;34m)\u001b[0m\u001b[0;34m\u001b[0m\u001b[0;34m\u001b[0m\u001b[0m\n\u001b[0m\u001b[1;32m    544\u001b[0m \u001b[0;34m\u001b[0m\u001b[0m\n\u001b[1;32m    545\u001b[0m \u001b[0;34m\u001b[0m\u001b[0m\n",
      "\u001b[0;31mIndexError\u001b[0m: index 256 is out of bounds for axis 0 with size 16"
     ]
    }
   ],
   "source": [
    "EbNodB=0\n",
    "#frozen bit を定める\n",
    "\n",
    "\n",
    "\n",
    "sourcecode,codeword_1D=generate_codeword(N,Gres) #1D-array codeword\n",
    "codeword=codeword_1D[...,np.newaxis] \n",
    "codeword=np.transpose(codeword) #2D-array codeword\n",
    "print(frozen_bit)\n",
    "print(sourcecode,codeword_1D)\n",
    "RX_BPSK=AWGN_channel(EbNodB,codeword)\n",
    "\n",
    "#受信信号の1列ごとの受け渡し(数値をx軸のみに変更)\n",
    "y=RX_BPSK[0,:].real #1D-array codeword\n",
    "print(y)\n",
    "\n",
    "#LLR\n",
    "EbNo = 10 ** (EbNodB / 10)\n",
    "No=1/EbNo\n",
    "Lc=4*y/No\n",
    "print(Lc)\n",
    "t=0\n",
    "EST_codeword=np.zeros(N)\n",
    "SC_decoding(Lc)\n",
    "print()\n",
    "#t=0\n",
    "#EST_codeword=np.zeros(N)\n",
    "#SC_decoding(y)\n",
    "\n",
    "#EST_codeword=np.sign(y)\n",
    "#EST_codeword[EST_codeword==1]=0\n",
    "#EST_codeword[EST_codeword==-1]=1\n",
    "#EST_codeword=(EST_codeword@Gres)%2\n",
    "#print(sourcecode)\n",
    "#print(EST_codeword)\n",
    "#print(np.sum(sourcecode!=EST_codeword))\n",
    "#print(sourcecode)\n",
    "#print(EST_codeword)\n",
    "#print(np.any(frozen_bit==500))\n",
    "\n",
    "#input \"PC_MATRIX\"(2D(M,:)-array)"
   ]
  },
  {
   "cell_type": "code",
   "execution_count": null,
   "metadata": {},
   "outputs": [
    {
     "ename": "IndentationError",
     "evalue": "unindent does not match any outer indentation level (<tokenize>, line 16)",
     "output_type": "error",
     "traceback": [
      "\u001b[0;36m  File \u001b[0;32m\"<tokenize>\"\u001b[0;36m, line \u001b[0;32m16\u001b[0m\n\u001b[0;31m    else:\u001b[0m\n\u001b[0m    ^\u001b[0m\n\u001b[0;31mIndentationError\u001b[0m\u001b[0;31m:\u001b[0m unindent does not match any outer indentation level\n"
     ]
    }
   ],
   "source": [
    "def chk(llr):\n",
    "  CHECK_NODE_TANH_THRES=44\n",
    "  llr=llr.reshape(2,len(llr//2))\n",
    "  res=np.zeros(llr.shape[1])\n",
    "\n",
    "  res_bool=(np.abs(llr[0]) > CHECK_NODE_TANH_THRES)　*　(np.abs(llr[1]) > CHECK_NODE_TANH_THRES)\n",
    "\n",
    "  \n",
    "\n",
    "      if llr_1[i] * llr_2[i] > 0:\n",
    "        # If both LLRs are of one sign, we return the minimum of their absolute values.\n",
    "        res[i]=min(np.abs(llr_1[i]), np.abs(llr_2[i]))\n",
    "      else:\n",
    "        # Otherwise, we return an opposite to the minimum of their absolute values.\n",
    "        res[i]=-1 * min(abs(llr_1[i]), abs(llr_2[i]))\n",
    "    else:\n",
    "      res[i]= 2 * np.arctanh(np.tanh(llr_1[i] / 2, ) * np.tanh(llr_2[i] / 2))\n",
    "  return res\n"
   ]
  },
  {
   "cell_type": "code",
   "execution_count": null,
   "metadata": {},
   "outputs": [
    {
     "ename": "SyntaxError",
     "evalue": "invalid character in identifier (<ipython-input-1-824ce8270430>, line 1)",
     "output_type": "error",
     "traceback": [
      "\u001b[0;36m  File \u001b[0;32m\"<ipython-input-1-824ce8270430>\"\u001b[0;36m, line \u001b[0;32m1\u001b[0m\n\u001b[0;31m    res_bool=(np.abs(llr[0]) > CHECK_NODE_TANH_THRES)　*　(np.abs(llr[1]) > CHECK_NODE_TANH_THRES)\u001b[0m\n\u001b[0m                                                     ^\u001b[0m\n\u001b[0;31mSyntaxError\u001b[0m\u001b[0;31m:\u001b[0m invalid character in identifier\n"
     ]
    }
   ],
   "source": [
    "res_bool=(np.abs(llr[0]) > CHECK_NODE_TANH_THRES)　*　(np.abs(llr[1]) > CHECK_NODE_TANH_THRES)\n"
   ]
  },
  {
   "cell_type": "code",
   "execution_count": 90,
   "metadata": {},
   "outputs": [
    {
     "name": "stdout",
     "output_type": "stream",
     "text": [
      "[   0    1    2 ...  767  511 1023]\n"
     ]
    }
   ],
   "source": [
    "frozen_bits=np.loadtxt('frozen_bits_1dB.txt',dtype=int)\n",
    "print(frozen_bits)"
   ]
  }
 ],
 "metadata": {
  "interpreter": {
   "hash": "5bed13c6ca82b80bcc3f2c0cc12d507f1ad15eb73f54f6076ce610d080eb7e68"
  },
  "kernelspec": {
   "display_name": "Python 3.7.10 64-bit ('3.7.10': pyenv)",
   "name": "python3"
  },
  "language_info": {
   "codemirror_mode": {
    "name": "ipython",
    "version": 3
   },
   "file_extension": ".py",
   "mimetype": "text/x-python",
   "name": "python",
   "nbconvert_exporter": "python",
   "pygments_lexer": "ipython3",
   "version": "3.7.10"
  },
  "orig_nbformat": 4
 },
 "nbformat": 4,
 "nbformat_minor": 2
}