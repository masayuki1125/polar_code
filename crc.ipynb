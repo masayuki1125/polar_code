{
 "cells": [
  {
   "cell_type": "code",
   "execution_count": 16,
   "metadata": {},
   "outputs": [],
   "source": [
    "import numpy as np\n",
    "import polar_code\n",
    "import scipy\n",
    "from scipy import sparse \n",
    "N=1024\n",
    "K=512\n",
    "cd=polar_code.coding(N)\n",
    "itr_num=np.log2(N).astype(int)"
   ]
  },
  {
   "cell_type": "code",
   "execution_count": 17,
   "metadata": {},
   "outputs": [
    {
     "name": "stdout",
     "output_type": "stream",
     "text": [
      "512\n",
      "512\n"
     ]
    }
   ],
   "source": [
    "D=np.ones((K,N),dtype=int)\n",
    "for i in cd.frozen_bits:\n",
    "  tmp=np.count_nonzero(cd.info_bits<i)\n",
    "  D[tmp:,i]=0\n",
    "\n",
    "print(len(cd.info_bits))\n",
    "\n",
    "#change D into row echelon form\n",
    "res=np.ones((K,N),dtype=int)\n",
    "count=0\n",
    "for i in range(K):\n",
    "  for j in range(N):\n",
    "    if D[i,j]==0:\n",
    "      res[:,count]=D[:,j]#insert to res\n",
    "      D[:,j]=2\n",
    "      count+=1\n",
    "\n",
    "print(count)\n",
    "\n",
    "\n",
    "  \n",
    "np.savetxt(\"D\",res,fmt='%i')"
   ]
  },
  {
   "cell_type": "code",
   "execution_count": 18,
   "metadata": {},
   "outputs": [
    {
     "name": "stdout",
     "output_type": "stream",
     "text": [
      "[[0 0 0 ... 1 1 1]\n",
      " [0 0 0 ... 1 1 1]\n",
      " [0 0 0 ... 1 1 1]\n",
      " ...\n",
      " [0 0 0 ... 1 1 1]\n",
      " [0 0 0 ... 1 1 1]\n",
      " [0 0 0 ... 1 1 1]]\n"
     ]
    }
   ],
   "source": [
    "print(res)"
   ]
  },
  {
   "cell_type": "code",
   "execution_count": 19,
   "metadata": {},
   "outputs": [
    {
     "name": "stdout",
     "output_type": "stream",
     "text": [
      "static frozen bit number is\n",
      "127\n",
      "dynamic frozen bit number is\n",
      "385\n",
      "informatino bit num is\n",
      "512\n"
     ]
    }
   ],
   "source": [
    "print(\"static frozen bit number is\")\n",
    "sfnum=np.count_nonzero(res[0]==0)\n",
    "print(sfnum)\n",
    "\n",
    "print(\"dynamic frozen bit number is\")\n",
    "dfnum=np.count_nonzero(res[K-1]==0)-sfnum\n",
    "print(dfnum)\n",
    "\n",
    "print(\"informatino bit num is\")\n",
    "print(N-sfnum-dfnum)"
   ]
  },
  {
   "cell_type": "code",
   "execution_count": 20,
   "metadata": {},
   "outputs": [],
   "source": [
    "P=make_H(itr_num) #poalr generator matrix\n",
    "GG=res@P"
   ]
  },
  {
   "cell_type": "code",
   "execution_count": 21,
   "metadata": {},
   "outputs": [],
   "source": [
    "np.savetxt(\"GG\",GG,fmt='%i')"
   ]
  },
  {
   "cell_type": "code",
   "execution_count": 22,
   "metadata": {},
   "outputs": [],
   "source": [
    "def interleave(N):\n",
    "\n",
    "    interleaver_sequence=np.arange(N)\n",
    "    np.random.shuffle(interleaver_sequence)\n",
    "    return interleaver_sequence\n",
    "\n",
    "def generate_regular_H(N,K,Wc,Wr):\n",
    "  '''\n",
    "  #generate regular parity check matrix\n",
    "  #-----------\n",
    "  #Wr : row weight\n",
    "  #Wc : column weight\n",
    "  #N : length of codeword \n",
    "  '''\n",
    "\n",
    "  if N*Wc%Wr!=0:\n",
    "    print(\"constant err\")\n",
    "    exit()\n",
    "\n",
    "  #generate sub_H matrix(Wc=1)\n",
    "  sub_H=np.zeros(((N-K)//Wc,N),dtype=int)\n",
    "  for i in range((N-K)//Wc):\n",
    "      sub_H[i][Wr*i:Wr*(i+1)]=1\n",
    "\n",
    "  H=sub_H\n",
    "\n",
    "  #generate other sub_H matrix(Wc=1)\n",
    "  for i in range(Wc+1):\n",
    "    sub_H2=sub_H[:,interleave(N)]\n",
    "    H=np.concatenate((H,sub_H2))\n",
    "  \n",
    "  H=H[:K,:]\n",
    "\n",
    "  return H "
   ]
  },
  {
   "cell_type": "code",
   "execution_count": 23,
   "metadata": {},
   "outputs": [],
   "source": [
    "def tensordot(A):\n",
    "  tmp0=np.zeros((A.shape[0],A.shape[1]),dtype=np.int)\n",
    "  tmp1=np.append(A,tmp0,axis=1)\n",
    "  #print(tmp1)\n",
    "  tmp2=np.append(A,A,axis=1)\n",
    "  #print(tmp2)\n",
    "  tmp3=np.append(tmp1,tmp2,axis=0)\n",
    "  #print(tmp3)\n",
    "  return tmp3\n",
    "\n",
    "def make_H(itr_num):\n",
    "  G2=np.array([[1,0],[1,1]],dtype=np.int)\n",
    "  Gres=G2\n",
    "  for _ in range(itr_num-1):\n",
    "    #print(i)\n",
    "    Gres=tensordot(Gres)\n",
    "  return Gres"
   ]
  },
  {
   "cell_type": "code",
   "execution_count": 24,
   "metadata": {},
   "outputs": [],
   "source": [
    "def binaryproduct(X, Y):\n",
    "    \"\"\"Compute a matrix-matrix / vector product in Z/2Z.\"\"\"\n",
    "    A = X.dot(Y)\n",
    "    try:\n",
    "      A = A.toarray()\n",
    "    except AttributeError:\n",
    "      pass\n",
    "    return A % 2\n",
    "\n",
    "def gaussjordan(X, change=0):\n",
    "    \"\"\"Compute the binary row reduced echelon form of X.\n",
    "    Parameters\n",
    "    ----------\n",
    "    X: array (m, n)\n",
    "    change : boolean (default, False). If True returns the inverse transform\n",
    "    Returns\n",
    "    -------\n",
    "    if `change` == 'True':\n",
    "        A: array (m, n). row reduced form of X.\n",
    "        P: tranformations applied to the identity\n",
    "    else:\n",
    "        A: array (m, n). row reduced form of X.\n",
    "    \"\"\"\n",
    "    A = np.copy(X)\n",
    "    m, n = A.shape\n",
    "\n",
    "    if change:\n",
    "      P = np.identity(m).astype(int)\n",
    "\n",
    "    pivot_old = -1\n",
    "    for j in range(n):\n",
    "      filtre_down = A[pivot_old+1:m, j]\n",
    "      pivot = np.argmax(filtre_down)+pivot_old+1\n",
    "\n",
    "      if A[pivot, j]:\n",
    "        pivot_old += 1\n",
    "        if pivot_old != pivot:\n",
    "          aux = np.copy(A[pivot, :])\n",
    "          A[pivot, :] = A[pivot_old, :]\n",
    "          A[pivot_old, :] = aux\n",
    "          if change:\n",
    "            aux = np.copy(P[pivot, :])\n",
    "            P[pivot, :] = P[pivot_old, :]\n",
    "            P[pivot_old, :] = aux\n",
    "\n",
    "        for i in range(m):\n",
    "          if i != pivot_old and A[i, j]:\n",
    "            if change:\n",
    "              P[i, :] = abs(P[i, :]-P[pivot_old, :])\n",
    "            A[i, :] = abs(A[i, :]-A[pivot_old, :])\n",
    "\n",
    "      if pivot_old == m-1:\n",
    "        break\n",
    "\n",
    "    if change:\n",
    "      return A, P\n",
    "    return A"
   ]
  },
  {
   "cell_type": "code",
   "execution_count": 25,
   "metadata": {},
   "outputs": [],
   "source": [
    "def HtotG(H,sparse=False):\n",
    "    \"\"\"Return the generating coding matrix G given the LDPC matrix H.\n",
    "    Parameters\n",
    "    ----------\n",
    "    H: array (n_equations, n_code). Parity check matrix of an LDPC code with\n",
    "        code length `n_code` and `n_equations` number of equations.\n",
    "    sparse: (boolean, default True): if `True`, scipy.sparse format is used\n",
    "        to speed up computation.\n",
    "    Returns\n",
    "    -------\n",
    "    G.T: array (n_bits, n_code). Transposed coding matrix.\n",
    "    \"\"\"\n",
    "\n",
    "    if type(H) == scipy.sparse.csr_matrix:\n",
    "      H = H.toarray()\n",
    "    n_equations, n_code = H.shape\n",
    "\n",
    "    # DOUBLE GAUSS-JORDAN:\n",
    "\n",
    "    Href_colonnes, tQ = gaussjordan(H.T, 1)\n",
    "\n",
    "    Href_diag = gaussjordan(np.transpose(Href_colonnes))\n",
    "\n",
    "    Q = tQ.T\n",
    "\n",
    "    n_bits = n_code - Href_diag.sum()\n",
    "\n",
    "    Y = np.zeros(shape=(n_code, n_bits)).astype(int)\n",
    "    Y[n_code - n_bits:, :] = np.identity(n_bits)\n",
    "\n",
    "    if sparse:\n",
    "      Q = scipy.sparse.csr_matrix(Q)\n",
    "      Y = scipy.sparse.csr_matrix(Y)\n",
    "\n",
    "    tG = binaryproduct(Q, Y)\n",
    "\n",
    "    return tG"
   ]
  },
  {
   "cell_type": "code",
   "execution_count": 26,
   "metadata": {},
   "outputs": [
    {
     "name": "stdout",
     "output_type": "stream",
     "text": [
      "[[0 0 0 ... 1 1 1]\n",
      " [0 0 0 ... 1 1 1]\n",
      " [0 0 0 ... 1 1 1]\n",
      " ...\n",
      " [0 0 0 ... 1 1 1]\n",
      " [0 0 0 ... 1 1 1]\n",
      " [0 0 0 ... 1 1 1]]\n"
     ]
    }
   ],
   "source": [
    "print(res)"
   ]
  },
  {
   "cell_type": "code",
   "execution_count": 33,
   "metadata": {},
   "outputs": [],
   "source": [
    "def fill_one_row(D,count):\n",
    "  for i in reversed(range(D.shape[0])):\n",
    "    for j in range(D.shape[1]):\n",
    "      if D[i,j]==1:\n",
    "        res=D[:,j]\n",
    "        D=np.delete(D,j,axis=1)\n",
    "        count-=1\n",
    "        return D,res,count\n"
   ]
  },
  {
   "cell_type": "code",
   "execution_count": 35,
   "metadata": {},
   "outputs": [],
   "source": [
    "H=generate_regular_H(N,K,3,6)\n",
    "G=make_H(itr_num)\n",
    "A=G@H.T%2\n",
    "tG=HtotG(A.T)\n",
    "G=tG.T\n",
    "D=G@P%2\n",
    "Dnew=np.zeros((K,N))\n",
    "#Dをrow echelon formにする\n",
    "count=N-1\n",
    "while count>0:\n",
    "  D,res,count=fill_one_row(D,count)\n",
    "  Dnew[:,count]=res\n",
    "\n",
    "np.savetxt(\"DD\",Dnew,fmt='%i')"
   ]
  },
  {
   "cell_type": "code",
   "execution_count": 34,
   "metadata": {},
   "outputs": [
    {
     "name": "stdout",
     "output_type": "stream",
     "text": [
      "1\n"
     ]
    },
    {
     "ename": "KeyboardInterrupt",
     "evalue": "",
     "output_type": "error",
     "traceback": [
      "\u001b[0;31m---------------------------------------------------------------------------\u001b[0m",
      "\u001b[0;31mKeyboardInterrupt\u001b[0m                         Traceback (most recent call last)",
      "\u001b[0;32m<ipython-input-34-a1a20d8dfa4a>\u001b[0m in \u001b[0;36m<module>\u001b[0;34m\u001b[0m\n\u001b[1;32m      6\u001b[0m   \u001b[0mtG\u001b[0m\u001b[0;34m=\u001b[0m\u001b[0mHtotG\u001b[0m\u001b[0;34m(\u001b[0m\u001b[0mA\u001b[0m\u001b[0;34m.\u001b[0m\u001b[0mT\u001b[0m\u001b[0;34m)\u001b[0m\u001b[0;34m\u001b[0m\u001b[0;34m\u001b[0m\u001b[0m\n\u001b[1;32m      7\u001b[0m   \u001b[0mG\u001b[0m\u001b[0;34m=\u001b[0m\u001b[0mtG\u001b[0m\u001b[0;34m.\u001b[0m\u001b[0mT\u001b[0m\u001b[0;34m\u001b[0m\u001b[0;34m\u001b[0m\u001b[0m\n\u001b[0;32m----> 8\u001b[0;31m   \u001b[0mD\u001b[0m\u001b[0;34m=\u001b[0m\u001b[0mG\u001b[0m\u001b[0;34m@\u001b[0m\u001b[0mP\u001b[0m\u001b[0;34m\u001b[0m\u001b[0;34m\u001b[0m\u001b[0m\n\u001b[0m\u001b[1;32m      9\u001b[0m   \u001b[0mDnew\u001b[0m\u001b[0;34m=\u001b[0m\u001b[0mnp\u001b[0m\u001b[0;34m.\u001b[0m\u001b[0mzeros\u001b[0m\u001b[0;34m(\u001b[0m\u001b[0;34m(\u001b[0m\u001b[0mK\u001b[0m\u001b[0;34m,\u001b[0m\u001b[0mN\u001b[0m\u001b[0;34m)\u001b[0m\u001b[0;34m)\u001b[0m\u001b[0;34m\u001b[0m\u001b[0;34m\u001b[0m\u001b[0m\n\u001b[1;32m     10\u001b[0m   \u001b[0;31m#Dをrow echelon formにする\u001b[0m\u001b[0;34m\u001b[0m\u001b[0;34m\u001b[0m\u001b[0;34m\u001b[0m\u001b[0m\n",
      "\u001b[0;31mKeyboardInterrupt\u001b[0m: "
     ]
    }
   ],
   "source": [
    "count=0\n",
    "while True:\n",
    "  H=generate_regular_H(N,K,3,6)\n",
    "  G=make_H(itr_num)\n",
    "  A=G@H.T%2\n",
    "  tG=HtotG(A.T)\n",
    "  G=tG.T\n",
    "  D=G@P\n",
    "  Dnew=np.zeros((K,N))\n",
    "  #Dをrow echelon formにする\n",
    "  tmp=N-1\n",
    "  while count>0:\n",
    "    D,res,tmp=fill_one_row(D,tmp)\n",
    "    Dnew[:,tmp]=res\n",
    "    \n",
    "  if np.any((D-res)==-1)==False:\n",
    "    np.savetxt(\"G\",G,fmt='%i')\n",
    "    break\n",
    "  count+=1\n",
    "  print(count)\n",
    "\n",
    "\n"
   ]
  },
  {
   "cell_type": "code",
   "execution_count": 15,
   "metadata": {},
   "outputs": [
    {
     "name": "stdout",
     "output_type": "stream",
     "text": [
      "[[0 0 0 ... 0 0 0]\n",
      " [1 1 0 ... 0 1 0]\n",
      " [0 1 0 ... 1 0 0]\n",
      " ...\n",
      " [0 0 0 ... 1 0 0]\n",
      " [0 0 0 ... 0 1 0]\n",
      " [0 0 0 ... 0 0 1]]\n",
      "False\n"
     ]
    }
   ],
   "source": [
    "print(tG)\n",
    "np.linalg.matrix_rank(tG)\n",
    "print(np.any((tG.T@A%2)!=0))"
   ]
  },
  {
   "cell_type": "code",
   "execution_count": 2,
   "metadata": {},
   "outputs": [],
   "source": [
    "CRC_polynomial =np.array([1, 0, 0, 0, 1, 0, 0, 0, 0, 0, 0, 1, 0, 0, 0, 0, 1])\n",
    "CRC_len=len(CRC_polynomial)"
   ]
  },
  {
   "cell_type": "code",
   "execution_count": 3,
   "metadata": {},
   "outputs": [],
   "source": [
    "def left_cyclic(data,polynomial,memory):\n",
    "  tmp=np.zeros(len(memory)+1,dtype=int)\n",
    "  tmp[0]=data\n",
    "  tmp[1:]=memory\n",
    "  res=np.sum(tmp*polynomial)%2\n",
    "  memory=tmp[:len(memory)]\n",
    "  return res,memory\n",
    "\n",
    "def cyclic(data,polynomial,memory):\n",
    "\n",
    "  tmp=-1*np.ones(len(memory)+1,dtype=int)\n",
    "  tmp[len(tmp)-1]=data\n",
    "  pre_data=memory[0]\n",
    "  tmp[:len(tmp)-1]=memory\n",
    "\n",
    "  for i in range(len(polynomial)-1):\n",
    "    if polynomial[i]==1:\n",
    "      tmp[i]=(pre_data+tmp[i+1])%2\n",
    "    else:\n",
    "      tmp[i]=tmp[i+1]\n",
    "\n",
    "  #from IPython.core.debugger import Pdb; Pdb().set_trace()\n",
    "  memory=tmp[:len(memory)]\n",
    "\n",
    "  return memory"
   ]
  },
  {
   "cell_type": "code",
   "execution_count": 4,
   "metadata": {},
   "outputs": [
    {
     "name": "stdout",
     "output_type": "stream",
     "text": [
      "[1 0 0 1 0 1 1 0 0 0 0 0 1 0 1]\n",
      "[1 0 0 1 0 1 1 0 0 0 0 0 1 0 1 0 1 0 0 0 1 1 1 1 0 0 1 0 0 0 0]\n",
      "True\n"
     ]
    }
   ],
   "source": [
    "CRC_polynomial =np.array([1, 0, 0, 0, 1, 0, 0, 0, 0, 0, 0, 1, 0, 0, 0, 0, 1])\n",
    "info_len=15\n",
    "information=np.random.randint(0,2,info_len)\n",
    "#print(information)\n",
    "\n",
    "def CRC_gen(information,parity,polynomial):\n",
    "  CRC_info=np.zeros(len(information)+len(parity),dtype='int')\n",
    "  CRC_info[:len(information)]=information\n",
    "  CRC_info[len(information):]=parity\n",
    "\n",
    "  memory=np.zeros(CRC_len-1,dtype='int')\n",
    "  CRC_info[:len(information)]=information\n",
    "  for i in range(len(CRC_info)):\n",
    "    memory=cyclic(CRC_info[i],polynomial,memory)\n",
    "  #print(len(memory))\n",
    "  CRC_info[info_len:]=memory\n",
    "\n",
    "  return CRC_info,np.all(memory==0)\n",
    "\n",
    "parity=np.zeros(len(CRC_polynomial)-1)\n",
    "CRC_info,check=CRC_gen(information,parity,CRC_polynomial)\n",
    "print(information)\n",
    "print(CRC_info)\n",
    "parity=CRC_info[len(information):]\n",
    "information=CRC_info[:len(information)]\n",
    "CRC_info,check=CRC_gen(information,parity,CRC_polynomial)\n",
    "print(check)"
   ]
  },
  {
   "cell_type": "code",
   "execution_count": 5,
   "metadata": {},
   "outputs": [],
   "source": [
    "def CRC_check(self,information):\n",
    "  memory=np.zeros(CRC_len-1)\n",
    "  for i in range(len(CRC_info)):\n",
    "    memory=self.right_cyclic(CRC_info[i],CRC_polynomial,memory)\n",
    "  \n",
    "  if np.all(memory==0):\n",
    "    return True\n",
    "  \n",
    "  else:\n",
    "    return False"
   ]
  },
  {
   "cell_type": "code",
   "execution_count": null,
   "metadata": {},
   "outputs": [],
   "source": [
    "\n",
    "CRC_info=np.zeros(K+CRC_len-1)\n",
    "memory=np.zeros(CRC_len-1,dtype=int)\n",
    "for i in range(K):\n",
    "  CRC_info[i],memory=left_cyclic(information[i],CRC_polynomial,memory)\n",
    "\n",
    "CRC_info[self.K:]=memory\n",
    "\n",
    "print(CRC_check(CRC_info))\n",
    "if CRC_check(CRC_info)==False:\n",
    "  print(\"CRC_err\")\n",
    "\n",
    "print(CRC_info)"
   ]
  }
 ],
 "metadata": {
  "interpreter": {
   "hash": "2d10f77717f7158c16ff87710fa1e3d60d6501755bea59c4450e96f9e5d3338d"
  },
  "kernelspec": {
   "display_name": "Python 3.7.10 64-bit ('3.7.10': pyenv)",
   "name": "python3"
  },
  "language_info": {
   "codemirror_mode": {
    "name": "ipython",
    "version": 3
   },
   "file_extension": ".py",
   "mimetype": "text/x-python",
   "name": "python",
   "nbconvert_exporter": "python",
   "pygments_lexer": "ipython3",
   "version": "3.7.10"
  },
  "orig_nbformat": 4
 },
 "nbformat": 4,
 "nbformat_minor": 2
}
