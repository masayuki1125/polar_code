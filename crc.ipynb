{
 "cells": [
  {
   "cell_type": "code",
   "execution_count": 1,
   "metadata": {},
   "outputs": [],
   "source": [
    "import numpy as np"
   ]
  },
  {
   "cell_type": "code",
   "execution_count": 2,
   "metadata": {},
   "outputs": [],
   "source": [
    "CRC_polynomial =np.array([1, 0, 0, 0, 1, 0, 0, 0, 0, 0, 0, 1, 0, 0, 0, 0, 1])\n",
    "CRC_len=len(CRC_polynomial)"
   ]
  },
  {
   "cell_type": "code",
   "execution_count": 3,
   "metadata": {},
   "outputs": [],
   "source": [
    "def left_cyclic(data,polynomial,memory):\n",
    "  tmp=np.zeros(len(memory)+1,dtype=int)\n",
    "  tmp[0]=data\n",
    "  tmp[1:]=memory\n",
    "  res=np.sum(tmp*polynomial)%2\n",
    "  memory=tmp[:len(memory)]\n",
    "  return res,memory\n",
    "\n",
    "def cyclic(data,polynomial,memory):\n",
    "\n",
    "  tmp=-1*np.ones(len(memory)+1,dtype=int)\n",
    "  tmp[len(tmp)-1]=data\n",
    "  pre_data=memory[0]\n",
    "  tmp[:len(tmp)-1]=memory\n",
    "\n",
    "  for i in range(len(polynomial)-1):\n",
    "    if polynomial[i]==1:\n",
    "      tmp[i]=(pre_data+tmp[i+1])%2\n",
    "    else:\n",
    "      tmp[i]=tmp[i+1]\n",
    "\n",
    "  #from IPython.core.debugger import Pdb; Pdb().set_trace()\n",
    "  memory=tmp[:len(memory)]\n",
    "\n",
    "  return memory"
   ]
  },
  {
   "cell_type": "code",
   "execution_count": 4,
   "metadata": {},
   "outputs": [
    {
     "name": "stdout",
     "output_type": "stream",
     "text": [
      "[1 0 0 1 0 1 1 0 0 0 0 0 1 0 1]\n",
      "[1 0 0 1 0 1 1 0 0 0 0 0 1 0 1 0 1 0 0 0 1 1 1 1 0 0 1 0 0 0 0]\n",
      "True\n"
     ]
    }
   ],
   "source": [
    "CRC_polynomial =np.array([1, 0, 0, 0, 1, 0, 0, 0, 0, 0, 0, 1, 0, 0, 0, 0, 1])\n",
    "info_len=15\n",
    "information=np.random.randint(0,2,info_len)\n",
    "#print(information)\n",
    "\n",
    "def CRC_gen(information,parity,polynomial):\n",
    "  CRC_info=np.zeros(len(information)+len(parity),dtype='int')\n",
    "  CRC_info[:len(information)]=information\n",
    "  CRC_info[len(information):]=parity\n",
    "\n",
    "  memory=np.zeros(CRC_len-1,dtype='int')\n",
    "  CRC_info[:len(information)]=information\n",
    "  for i in range(len(CRC_info)):\n",
    "    memory=cyclic(CRC_info[i],polynomial,memory)\n",
    "  #print(len(memory))\n",
    "  CRC_info[info_len:]=memory\n",
    "\n",
    "  return CRC_info,np.all(memory==0)\n",
    "\n",
    "parity=np.zeros(len(CRC_polynomial)-1)\n",
    "CRC_info,check=CRC_gen(information,parity,CRC_polynomial)\n",
    "print(information)\n",
    "print(CRC_info)\n",
    "parity=CRC_info[len(information):]\n",
    "information=CRC_info[:len(information)]\n",
    "CRC_info,check=CRC_gen(information,parity,CRC_polynomial)\n",
    "print(check)"
   ]
  },
  {
   "cell_type": "code",
   "execution_count": 5,
   "metadata": {},
   "outputs": [],
   "source": [
    "def CRC_check(self,information):\n",
    "  memory=np.zeros(CRC_len-1)\n",
    "  for i in range(len(CRC_info)):\n",
    "    memory=self.right_cyclic(CRC_info[i],CRC_polynomial,memory)\n",
    "  \n",
    "  if np.all(memory==0):\n",
    "    return True\n",
    "  \n",
    "  else:\n",
    "    return False"
   ]
  },
  {
   "cell_type": "code",
   "execution_count": null,
   "metadata": {},
   "outputs": [],
   "source": [
    "\n",
    "CRC_info=np.zeros(K+CRC_len-1)\n",
    "memory=np.zeros(CRC_len-1,dtype=int)\n",
    "for i in range(K):\n",
    "  CRC_info[i],memory=left_cyclic(information[i],CRC_polynomial,memory)\n",
    "\n",
    "CRC_info[self.K:]=memory\n",
    "\n",
    "print(CRC_check(CRC_info))\n",
    "if CRC_check(CRC_info)==False:\n",
    "  print(\"CRC_err\")\n",
    "\n",
    "print(CRC_info)"
   ]
  }
 ],
 "metadata": {
  "interpreter": {
   "hash": "2d10f77717f7158c16ff87710fa1e3d60d6501755bea59c4450e96f9e5d3338d"
  },
  "kernelspec": {
   "display_name": "Python 3.7.10 64-bit ('3.7.10': pyenv)",
   "name": "python3"
  },
  "language_info": {
   "codemirror_mode": {
    "name": "ipython",
    "version": 3
   },
   "file_extension": ".py",
   "mimetype": "text/x-python",
   "name": "python",
   "nbconvert_exporter": "python",
   "pygments_lexer": "ipython3",
   "version": "3.7.10"
  },
  "orig_nbformat": 4
 },
 "nbformat": 4,
 "nbformat_minor": 2
}
