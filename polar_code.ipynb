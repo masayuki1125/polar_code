{
 "cells": [
  {
   "cell_type": "code",
   "execution_count": 1,
   "source": [
    "#必要なライブラリ、定数\n",
    "import sys\n",
    "sys.path.append(\"../channel\")\n",
    "from AWGN import _AWGN\n",
    "\n",
    "import numpy as np\n",
    "import random\n",
    "import time\n",
    "import math\n",
    "from decimal import *\n",
    "random.seed(time.time())\n",
    "\n",
    "ch=_AWGN()"
   ],
   "outputs": [],
   "metadata": {}
  },
  {
   "cell_type": "code",
   "execution_count": 2,
   "source": [
    "class coding():\n",
    "    def __init__(self):\n",
    "        self.N=1024\n",
    "        self.K=512\n",
    "        self.design_SNR=4\n",
    "\n",
    "        #prepere constants\n",
    "        tmp=np.log2(self.N)\n",
    "        tmp=tmp.astype(int)\n",
    "        self.itr_num=tmp\n",
    "        self.frozen_bits,self.info_bits=\\\n",
    "            Bhattacharyya_bounds(self.N,self.K,self.design_SNR)\n",
    "        "
   ],
   "outputs": [],
   "metadata": {}
  },
  {
   "cell_type": "code",
   "execution_count": 3,
   "source": [
    "'''\n",
    "def tensordot(A):\n",
    "\n",
    "  tmp0=np.zeros((A.shape[0],A.shape[1]),dtype=np.int)\n",
    "  tmp1=np.append(A,tmp0,axis=1)\n",
    "  #print(tmp1)\n",
    "  tmp2=np.append(A,A,axis=1)\n",
    "  #print(tmp2)\n",
    "  tmp3=np.append(tmp1,tmp2,axis=0)\n",
    "  #print(tmp3)\n",
    "  return tmp3\n",
    "\n",
    "def make_H(itr_num):\n",
    "  G2=np.array([[1,0],[1,1]],dtype=np.int)\n",
    "  Gres=G2\n",
    "  for i in range(itr_num-1):\n",
    "    #print(i)\n",
    "    Gres=tensordot(Gres)\n",
    "  return Gres\n",
    "'''"
   ],
   "outputs": [
    {
     "output_type": "execute_result",
     "data": {
      "text/plain": [
       "'\\ndef tensordot(A):\\n\\n  tmp0=np.zeros((A.shape[0],A.shape[1]),dtype=np.int)\\n  tmp1=np.append(A,tmp0,axis=1)\\n  #print(tmp1)\\n  tmp2=np.append(A,A,axis=1)\\n  #print(tmp2)\\n  tmp3=np.append(tmp1,tmp2,axis=0)\\n  #print(tmp3)\\n  return tmp3\\n\\ndef make_H(itr_num):\\n  G2=np.array([[1,0],[1,1]],dtype=np.int)\\n  Gres=G2\\n  for i in range(itr_num-1):\\n    #print(i)\\n    Gres=tensordot(Gres)\\n  return Gres\\n'"
      ]
     },
     "metadata": {},
     "execution_count": 3
    }
   ],
   "metadata": {}
  },
  {
   "cell_type": "code",
   "execution_count": 4,
   "source": [
    "#frozen_bitの選択\n",
    "def Bhattacharyya_bounds(N,K,EdB):\n",
    "  E=np.zeros(1,dtype=np.float128)\n",
    "  E =Decimal('10') ** (Decimal(str(EdB)) / Decimal('10'))\n",
    "  itr_num=np.log2(N)\n",
    "  itr_num=itr_num.astype(int)\n",
    "  z=np.zeros(N,dtype=np.float128)\n",
    "\n",
    "  #10^10かけて計算する\n",
    "\n",
    "  z[0]=math.exp(Decimal('-1')*Decimal(str(E)))\n",
    "\n",
    "  #print(\"E=\",np.exp(-E))\n",
    "\n",
    "  for j in range(1,itr_num+1):\n",
    "    tmp=2**(j)//2\n",
    "\n",
    "    for t in range(tmp):\n",
    "      T=z[t]\n",
    "      z[t]=Decimal('2')*Decimal(str(T))-Decimal(str(T))**Decimal('2')\n",
    "      z[tmp+t]=Decimal(str(T))**Decimal('2')\n",
    "  #print(z)\n",
    "  #np.savetxt(\"z\",z)\n",
    "  tmp=indices_of_elements(z,N)\n",
    "  frozen_bits=tmp[:N-K]\n",
    "  info_bits=tmp[N-K:]\n",
    "  return frozen_bits,info_bits\n",
    "\n",
    "def indices_of_elements(v,l):\n",
    "  tmp=np.argsort(v)[::-1]\n",
    "  #print(tmp)\n",
    "  res=tmp[0:l]\n",
    "  return res"
   ],
   "outputs": [],
   "metadata": {}
  },
  {
   "cell_type": "code",
   "execution_count": 5,
   "source": [
    "'''\n",
    "def generate_codeword(N,Gres,frozen_bits):\n",
    "  S=np.zeros(N)\n",
    "  for i in range(N):\n",
    "    S[i]=random.randrange(0,2)\n",
    "    np.put(S,frozen_bits,0)\n",
    "  U=(S@Gres)%2\n",
    "  #print(U.shape)\n",
    "  return S,U\n",
    "\n",
    "#S,U=generate_codeword(N,Gres)\n",
    "#print(S,U)\n",
    "'''"
   ],
   "outputs": [
    {
     "output_type": "execute_result",
     "data": {
      "text/plain": [
       "'\\ndef generate_codeword(N,Gres,frozen_bits):\\n  S=np.zeros(N)\\n  for i in range(N):\\n    S[i]=random.randrange(0,2)\\n    np.put(S,frozen_bits,0)\\n  U=(S@Gres)%2\\n  #print(U.shape)\\n  return S,U\\n\\n#S,U=generate_codeword(N,Gres)\\n#print(S,U)\\n'"
      ]
     },
     "metadata": {},
     "execution_count": 5
    }
   ],
   "metadata": {}
  },
  {
   "cell_type": "code",
   "execution_count": 6,
   "source": [
    "def generate_information(K):\n",
    "      #generate information\n",
    "  information=np.random.randint(0,2,K)\n",
    "  return information"
   ],
   "outputs": [],
   "metadata": {}
  },
  {
   "cell_type": "code",
   "execution_count": 7,
   "source": [
    "def generate_U(N,information,info_bits):\n",
    "    u_message=np.zeros(N)\n",
    "    u_message[info_bits]=information\n",
    "    return u_message"
   ],
   "outputs": [],
   "metadata": {}
  },
  {
   "cell_type": "code",
   "execution_count": 8,
   "source": [
    "def encode(u_message):\n",
    "    \"\"\"\n",
    "    Implements the polar transform on the given message in a recursive way (defined in Arikan's paper).\n",
    "    :param u_message: An integer array of N bits which are to be transformed;\n",
    "    :return: codedword -- result of the polar transform.\n",
    "    \"\"\"\n",
    "    u_message = np.array(u_message)\n",
    "\n",
    "    if len(u_message) == 1:\n",
    "        codeword = u_message\n",
    "    else:\n",
    "        u1u2 = np.logical_xor(u_message[::2] , u_message[1::2])\n",
    "        u2 = u_message[1::2]\n",
    "\n",
    "        codeword = np.concatenate([encode(u1u2), encode(u2)])\n",
    "    return codeword"
   ],
   "outputs": [],
   "metadata": {}
  },
  {
   "cell_type": "code",
   "execution_count": 20,
   "source": [
    "def chk(llr_1,llr_2):\n",
    "  CHECK_NODE_TANH_THRES=30\n",
    "  res=np.zeros(len(llr_1))\n",
    "  for i in range(len(res)):\n",
    "\n",
    "    if abs(llr_1[i]) > CHECK_NODE_TANH_THRES and abs(llr_2[i]) > CHECK_NODE_TANH_THRES:\n",
    "      if llr_1[i] * llr_2[i] > 0:\n",
    "        # If both LLRs are of one sign, we return the minimum of their absolute values.\n",
    "        res[i]=min(abs(llr_1[i]), abs(llr_2[i]))\n",
    "      else:\n",
    "        # Otherwise, we return an opposite to the minimum of their absolute values.\n",
    "        res[i]=-1 * min(abs(llr_1[i]), abs(llr_2[i]))\n",
    "    else:\n",
    "      res[i]= 2 * np.arctanh(np.tanh(llr_1[i] / 2, ) * np.tanh(llr_2[i] / 2))\n",
    "  return res\n",
    "\n",
    "class SC_decoding(coding):\n",
    "    t=0\n",
    "    EST_codeword=np.zeros(self.N)\n",
    "\n",
    "def SC_decoding(a,frozen_bits):\n",
    "  global t\n",
    "  #interior node operation\n",
    "  if a.shape[0]==1:\n",
    "    #frozen_bit or not\n",
    "    if np.any(frozen_bits==t):\n",
    "      tmp0=np.zeros(1)\n",
    "    elif a>=0:\n",
    "      tmp0=np.zeros(1)\n",
    "    elif a<0:\n",
    "      tmp0=np.ones(1)\n",
    "    else:\n",
    "      print(\"err!\")\n",
    "      exit()\n",
    "    EST_codeword[t]=tmp0\n",
    "    #print(t)\n",
    "    t+=1\n",
    "    #if t>=N:\n",
    "      #exit()\n",
    "    return tmp0\n",
    "\n",
    "  #step1 left input a output u1_hat\n",
    "  tmp1=np.split(a,2)\n",
    "  f_half_a=chk(tmp1[0],tmp1[1])\n",
    "  u1=SC_decoding(f_half_a,frozen_bits)\n",
    "\n",
    "  #step2 right input a,u1_hat output u2_hat \n",
    "  tmp2=np.split(a,2)\n",
    "  g_half_a=tmp2[1]+(1-2*u1)*tmp2[0] \n",
    "  u2=SC_decoding(g_half_a,frozen_bits)\n",
    "  \n",
    "  #step3 up input u1,u2 output a_hat\n",
    "  res=np.concatenate([(u1+u2)%2,u2])\n",
    "  return res\n"
   ],
   "outputs": [
    {
     "output_type": "error",
     "ename": "NameError",
     "evalue": "name 'self' is not defined",
     "traceback": [
      "\u001b[0;31m---------------------------------------------------------------------------\u001b[0m",
      "\u001b[0;31mNameError\u001b[0m                                 Traceback (most recent call last)",
      "\u001b[0;32m<ipython-input-20-68f60bff7fef>\u001b[0m in \u001b[0;36m<module>\u001b[0;34m\u001b[0m\n\u001b[1;32m     15\u001b[0m   \u001b[0;32mreturn\u001b[0m \u001b[0mres\u001b[0m\u001b[0;34m\u001b[0m\u001b[0;34m\u001b[0m\u001b[0m\n\u001b[1;32m     16\u001b[0m \u001b[0;34m\u001b[0m\u001b[0m\n\u001b[0;32m---> 17\u001b[0;31m \u001b[0;32mclass\u001b[0m \u001b[0mSC_decoding\u001b[0m\u001b[0;34m(\u001b[0m\u001b[0mcoding\u001b[0m\u001b[0;34m)\u001b[0m\u001b[0;34m:\u001b[0m\u001b[0;34m\u001b[0m\u001b[0;34m\u001b[0m\u001b[0m\n\u001b[0m\u001b[1;32m     18\u001b[0m     \u001b[0mt\u001b[0m\u001b[0;34m=\u001b[0m\u001b[0;36m0\u001b[0m\u001b[0;34m\u001b[0m\u001b[0;34m\u001b[0m\u001b[0m\n\u001b[1;32m     19\u001b[0m     \u001b[0mEST_codeword\u001b[0m\u001b[0;34m=\u001b[0m\u001b[0mnp\u001b[0m\u001b[0;34m.\u001b[0m\u001b[0mzeros\u001b[0m\u001b[0;34m(\u001b[0m\u001b[0mself\u001b[0m\u001b[0;34m.\u001b[0m\u001b[0mN\u001b[0m\u001b[0;34m)\u001b[0m\u001b[0;34m\u001b[0m\u001b[0;34m\u001b[0m\u001b[0m\n",
      "\u001b[0;32m<ipython-input-20-68f60bff7fef>\u001b[0m in \u001b[0;36mSC_decoding\u001b[0;34m()\u001b[0m\n\u001b[1;32m     17\u001b[0m \u001b[0;32mclass\u001b[0m \u001b[0mSC_decoding\u001b[0m\u001b[0;34m(\u001b[0m\u001b[0mcoding\u001b[0m\u001b[0;34m)\u001b[0m\u001b[0;34m:\u001b[0m\u001b[0;34m\u001b[0m\u001b[0;34m\u001b[0m\u001b[0m\n\u001b[1;32m     18\u001b[0m     \u001b[0mt\u001b[0m\u001b[0;34m=\u001b[0m\u001b[0;36m0\u001b[0m\u001b[0;34m\u001b[0m\u001b[0;34m\u001b[0m\u001b[0m\n\u001b[0;32m---> 19\u001b[0;31m     \u001b[0mEST_codeword\u001b[0m\u001b[0;34m=\u001b[0m\u001b[0mnp\u001b[0m\u001b[0;34m.\u001b[0m\u001b[0mzeros\u001b[0m\u001b[0;34m(\u001b[0m\u001b[0mself\u001b[0m\u001b[0;34m.\u001b[0m\u001b[0mN\u001b[0m\u001b[0;34m)\u001b[0m\u001b[0;34m\u001b[0m\u001b[0;34m\u001b[0m\u001b[0m\n\u001b[0m\u001b[1;32m     20\u001b[0m \u001b[0;34m\u001b[0m\u001b[0m\n\u001b[1;32m     21\u001b[0m \u001b[0;32mdef\u001b[0m \u001b[0mSC_decoding\u001b[0m\u001b[0;34m(\u001b[0m\u001b[0ma\u001b[0m\u001b[0;34m,\u001b[0m\u001b[0mfrozen_bits\u001b[0m\u001b[0;34m)\u001b[0m\u001b[0;34m:\u001b[0m\u001b[0;34m\u001b[0m\u001b[0;34m\u001b[0m\u001b[0m\n",
      "\u001b[0;31mNameError\u001b[0m: name 'self' is not defined"
     ]
    }
   ],
   "metadata": {}
  },
  {
   "cell_type": "code",
   "execution_count": 10,
   "source": [
    "class polar_code(coding):\n",
    "    def encode(self):\n",
    "        information=generate_information(self.K)\n",
    "        u_message=generate_U(self.N,information,self.info_bits)\n",
    "        codeword=encode(u_message)\n",
    "        return information,codeword\n",
    "\n",
    "    def decode(self,Lc):\n",
    "        EST_codeword=SC_decoding(self.N,Lc,self.frozen_bits)\n",
    "        EST_information=EST_codeword[self.info_bits]\n",
    "        return EST_information\n",
    "\n",
    "    def polar_code(self,EbNodB):\n",
    "        information,codeword=self.encode()\n",
    "        Lc=ch.generate_LLR(codeword,EbNodB)\n",
    "        EST_information=self.decode(Lc)\n",
    "        return information,EST_information"
   ],
   "outputs": [],
   "metadata": {}
  },
  {
   "cell_type": "code",
   "execution_count": 11,
   "source": [
    "if __name__==\"__main__\":\n",
    "    pc=polar_code()\n",
    "    information,EST_information=pc.polar_code(100)\n",
    "    print(np.any(information!=EST_infotmation))"
   ],
   "outputs": [
    {
     "output_type": "error",
     "ename": "NameError",
     "evalue": "name 't' is not defined",
     "traceback": [
      "\u001b[0;31m---------------------------------------------------------------------------\u001b[0m",
      "\u001b[0;31mNameError\u001b[0m                                 Traceback (most recent call last)",
      "\u001b[0;32m<ipython-input-11-2bb7b5501b0e>\u001b[0m in \u001b[0;36m<module>\u001b[0;34m\u001b[0m\n\u001b[1;32m      1\u001b[0m \u001b[0;32mif\u001b[0m \u001b[0m__name__\u001b[0m\u001b[0;34m==\u001b[0m\u001b[0;34m\"__main__\"\u001b[0m\u001b[0;34m:\u001b[0m\u001b[0;34m\u001b[0m\u001b[0;34m\u001b[0m\u001b[0m\n\u001b[1;32m      2\u001b[0m     \u001b[0mpc\u001b[0m\u001b[0;34m=\u001b[0m\u001b[0mpolar_code\u001b[0m\u001b[0;34m(\u001b[0m\u001b[0;34m)\u001b[0m\u001b[0;34m\u001b[0m\u001b[0;34m\u001b[0m\u001b[0m\n\u001b[0;32m----> 3\u001b[0;31m     \u001b[0minformation\u001b[0m\u001b[0;34m,\u001b[0m\u001b[0mEST_information\u001b[0m\u001b[0;34m=\u001b[0m\u001b[0mpc\u001b[0m\u001b[0;34m.\u001b[0m\u001b[0mpolar_code\u001b[0m\u001b[0;34m(\u001b[0m\u001b[0;36m100\u001b[0m\u001b[0;34m)\u001b[0m\u001b[0;34m\u001b[0m\u001b[0;34m\u001b[0m\u001b[0m\n\u001b[0m\u001b[1;32m      4\u001b[0m     \u001b[0mprint\u001b[0m\u001b[0;34m(\u001b[0m\u001b[0mnp\u001b[0m\u001b[0;34m.\u001b[0m\u001b[0many\u001b[0m\u001b[0;34m(\u001b[0m\u001b[0minformation\u001b[0m\u001b[0;34m!=\u001b[0m\u001b[0mEST_infotmation\u001b[0m\u001b[0;34m)\u001b[0m\u001b[0;34m)\u001b[0m\u001b[0;34m\u001b[0m\u001b[0;34m\u001b[0m\u001b[0m\n",
      "\u001b[0;32m<ipython-input-10-5fedf6d911b3>\u001b[0m in \u001b[0;36mpolar_code\u001b[0;34m(self, EbNodB)\u001b[0m\n\u001b[1;32m     14\u001b[0m         \u001b[0minformation\u001b[0m\u001b[0;34m,\u001b[0m\u001b[0mcodeword\u001b[0m\u001b[0;34m=\u001b[0m\u001b[0mself\u001b[0m\u001b[0;34m.\u001b[0m\u001b[0mencode\u001b[0m\u001b[0;34m(\u001b[0m\u001b[0;34m)\u001b[0m\u001b[0;34m\u001b[0m\u001b[0;34m\u001b[0m\u001b[0m\n\u001b[1;32m     15\u001b[0m         \u001b[0mLc\u001b[0m\u001b[0;34m=\u001b[0m\u001b[0mch\u001b[0m\u001b[0;34m.\u001b[0m\u001b[0mgenerate_LLR\u001b[0m\u001b[0;34m(\u001b[0m\u001b[0mcodeword\u001b[0m\u001b[0;34m,\u001b[0m\u001b[0mEbNodB\u001b[0m\u001b[0;34m)\u001b[0m\u001b[0;34m\u001b[0m\u001b[0;34m\u001b[0m\u001b[0m\n\u001b[0;32m---> 16\u001b[0;31m         \u001b[0mEST_information\u001b[0m\u001b[0;34m=\u001b[0m\u001b[0mself\u001b[0m\u001b[0;34m.\u001b[0m\u001b[0mdecode\u001b[0m\u001b[0;34m(\u001b[0m\u001b[0mLc\u001b[0m\u001b[0;34m)\u001b[0m\u001b[0;34m\u001b[0m\u001b[0;34m\u001b[0m\u001b[0m\n\u001b[0m\u001b[1;32m     17\u001b[0m         \u001b[0;32mreturn\u001b[0m \u001b[0minformation\u001b[0m\u001b[0;34m,\u001b[0m\u001b[0mEST_information\u001b[0m\u001b[0;34m\u001b[0m\u001b[0;34m\u001b[0m\u001b[0m\n",
      "\u001b[0;32m<ipython-input-10-5fedf6d911b3>\u001b[0m in \u001b[0;36mdecode\u001b[0;34m(self, Lc)\u001b[0m\n\u001b[1;32m      7\u001b[0m \u001b[0;34m\u001b[0m\u001b[0m\n\u001b[1;32m      8\u001b[0m     \u001b[0;32mdef\u001b[0m \u001b[0mdecode\u001b[0m\u001b[0;34m(\u001b[0m\u001b[0mself\u001b[0m\u001b[0;34m,\u001b[0m\u001b[0mLc\u001b[0m\u001b[0;34m)\u001b[0m\u001b[0;34m:\u001b[0m\u001b[0;34m\u001b[0m\u001b[0;34m\u001b[0m\u001b[0m\n\u001b[0;32m----> 9\u001b[0;31m         \u001b[0mEST_codeword\u001b[0m\u001b[0;34m=\u001b[0m\u001b[0mSC_decoding\u001b[0m\u001b[0;34m(\u001b[0m\u001b[0mself\u001b[0m\u001b[0;34m.\u001b[0m\u001b[0mN\u001b[0m\u001b[0;34m,\u001b[0m\u001b[0mLc\u001b[0m\u001b[0;34m,\u001b[0m\u001b[0mself\u001b[0m\u001b[0;34m.\u001b[0m\u001b[0mfrozen_bits\u001b[0m\u001b[0;34m)\u001b[0m\u001b[0;34m\u001b[0m\u001b[0;34m\u001b[0m\u001b[0m\n\u001b[0m\u001b[1;32m     10\u001b[0m         \u001b[0mEST_information\u001b[0m\u001b[0;34m=\u001b[0m\u001b[0mEST_codeword\u001b[0m\u001b[0;34m[\u001b[0m\u001b[0mself\u001b[0m\u001b[0;34m.\u001b[0m\u001b[0minfo_bits\u001b[0m\u001b[0;34m]\u001b[0m\u001b[0;34m\u001b[0m\u001b[0;34m\u001b[0m\u001b[0m\n\u001b[1;32m     11\u001b[0m         \u001b[0;32mreturn\u001b[0m \u001b[0mEST_information\u001b[0m\u001b[0;34m\u001b[0m\u001b[0;34m\u001b[0m\u001b[0m\n",
      "\u001b[0;32m<ipython-input-9-1fb4a551265f>\u001b[0m in \u001b[0;36mSC_decoding\u001b[0;34m(N, a, frozen_bits)\u001b[0m\n\u001b[1;32m     54\u001b[0m     \u001b[0;32mreturn\u001b[0m \u001b[0mres\u001b[0m\u001b[0;34m\u001b[0m\u001b[0;34m\u001b[0m\u001b[0m\n\u001b[1;32m     55\u001b[0m \u001b[0;34m\u001b[0m\u001b[0m\n\u001b[0;32m---> 56\u001b[0;31m   \u001b[0mrecursive_process\u001b[0m\u001b[0;34m(\u001b[0m\u001b[0ma\u001b[0m\u001b[0;34m,\u001b[0m\u001b[0mfrozen_bits\u001b[0m\u001b[0;34m)\u001b[0m\u001b[0;34m\u001b[0m\u001b[0;34m\u001b[0m\u001b[0m\n\u001b[0m\u001b[1;32m     57\u001b[0m \u001b[0;34m\u001b[0m\u001b[0m\n\u001b[1;32m     58\u001b[0m   \u001b[0;32mreturn\u001b[0m \u001b[0mEST_codeword\u001b[0m\u001b[0;34m\u001b[0m\u001b[0;34m\u001b[0m\u001b[0m\n",
      "\u001b[0;32m<ipython-input-9-1fb4a551265f>\u001b[0m in \u001b[0;36mrecursive_process\u001b[0;34m(a, frozen_bits)\u001b[0m\n\u001b[1;32m     43\u001b[0m     \u001b[0mtmp1\u001b[0m\u001b[0;34m=\u001b[0m\u001b[0mnp\u001b[0m\u001b[0;34m.\u001b[0m\u001b[0msplit\u001b[0m\u001b[0;34m(\u001b[0m\u001b[0ma\u001b[0m\u001b[0;34m,\u001b[0m\u001b[0;36m2\u001b[0m\u001b[0;34m)\u001b[0m\u001b[0;34m\u001b[0m\u001b[0;34m\u001b[0m\u001b[0m\n\u001b[1;32m     44\u001b[0m     \u001b[0mf_half_a\u001b[0m\u001b[0;34m=\u001b[0m\u001b[0mchk\u001b[0m\u001b[0;34m(\u001b[0m\u001b[0mtmp1\u001b[0m\u001b[0;34m[\u001b[0m\u001b[0;36m0\u001b[0m\u001b[0;34m]\u001b[0m\u001b[0;34m,\u001b[0m\u001b[0mtmp1\u001b[0m\u001b[0;34m[\u001b[0m\u001b[0;36m1\u001b[0m\u001b[0;34m]\u001b[0m\u001b[0;34m)\u001b[0m\u001b[0;34m\u001b[0m\u001b[0;34m\u001b[0m\u001b[0m\n\u001b[0;32m---> 45\u001b[0;31m     \u001b[0mu1\u001b[0m\u001b[0;34m=\u001b[0m\u001b[0mrecursive_process\u001b[0m\u001b[0;34m(\u001b[0m\u001b[0mf_half_a\u001b[0m\u001b[0;34m,\u001b[0m\u001b[0mfrozen_bits\u001b[0m\u001b[0;34m)\u001b[0m\u001b[0;34m\u001b[0m\u001b[0;34m\u001b[0m\u001b[0m\n\u001b[0m\u001b[1;32m     46\u001b[0m \u001b[0;34m\u001b[0m\u001b[0m\n\u001b[1;32m     47\u001b[0m     \u001b[0;31m#step2 right input a,u1_hat output u2_hat\u001b[0m\u001b[0;34m\u001b[0m\u001b[0;34m\u001b[0m\u001b[0;34m\u001b[0m\u001b[0m\n",
      "\u001b[0;32m<ipython-input-9-1fb4a551265f>\u001b[0m in \u001b[0;36mrecursive_process\u001b[0;34m(a, frozen_bits)\u001b[0m\n\u001b[1;32m     43\u001b[0m     \u001b[0mtmp1\u001b[0m\u001b[0;34m=\u001b[0m\u001b[0mnp\u001b[0m\u001b[0;34m.\u001b[0m\u001b[0msplit\u001b[0m\u001b[0;34m(\u001b[0m\u001b[0ma\u001b[0m\u001b[0;34m,\u001b[0m\u001b[0;36m2\u001b[0m\u001b[0;34m)\u001b[0m\u001b[0;34m\u001b[0m\u001b[0;34m\u001b[0m\u001b[0m\n\u001b[1;32m     44\u001b[0m     \u001b[0mf_half_a\u001b[0m\u001b[0;34m=\u001b[0m\u001b[0mchk\u001b[0m\u001b[0;34m(\u001b[0m\u001b[0mtmp1\u001b[0m\u001b[0;34m[\u001b[0m\u001b[0;36m0\u001b[0m\u001b[0;34m]\u001b[0m\u001b[0;34m,\u001b[0m\u001b[0mtmp1\u001b[0m\u001b[0;34m[\u001b[0m\u001b[0;36m1\u001b[0m\u001b[0;34m]\u001b[0m\u001b[0;34m)\u001b[0m\u001b[0;34m\u001b[0m\u001b[0;34m\u001b[0m\u001b[0m\n\u001b[0;32m---> 45\u001b[0;31m     \u001b[0mu1\u001b[0m\u001b[0;34m=\u001b[0m\u001b[0mrecursive_process\u001b[0m\u001b[0;34m(\u001b[0m\u001b[0mf_half_a\u001b[0m\u001b[0;34m,\u001b[0m\u001b[0mfrozen_bits\u001b[0m\u001b[0;34m)\u001b[0m\u001b[0;34m\u001b[0m\u001b[0;34m\u001b[0m\u001b[0m\n\u001b[0m\u001b[1;32m     46\u001b[0m \u001b[0;34m\u001b[0m\u001b[0m\n\u001b[1;32m     47\u001b[0m     \u001b[0;31m#step2 right input a,u1_hat output u2_hat\u001b[0m\u001b[0;34m\u001b[0m\u001b[0;34m\u001b[0m\u001b[0;34m\u001b[0m\u001b[0m\n",
      "\u001b[0;32m<ipython-input-9-1fb4a551265f>\u001b[0m in \u001b[0;36mrecursive_process\u001b[0;34m(a, frozen_bits)\u001b[0m\n\u001b[1;32m     43\u001b[0m     \u001b[0mtmp1\u001b[0m\u001b[0;34m=\u001b[0m\u001b[0mnp\u001b[0m\u001b[0;34m.\u001b[0m\u001b[0msplit\u001b[0m\u001b[0;34m(\u001b[0m\u001b[0ma\u001b[0m\u001b[0;34m,\u001b[0m\u001b[0;36m2\u001b[0m\u001b[0;34m)\u001b[0m\u001b[0;34m\u001b[0m\u001b[0;34m\u001b[0m\u001b[0m\n\u001b[1;32m     44\u001b[0m     \u001b[0mf_half_a\u001b[0m\u001b[0;34m=\u001b[0m\u001b[0mchk\u001b[0m\u001b[0;34m(\u001b[0m\u001b[0mtmp1\u001b[0m\u001b[0;34m[\u001b[0m\u001b[0;36m0\u001b[0m\u001b[0;34m]\u001b[0m\u001b[0;34m,\u001b[0m\u001b[0mtmp1\u001b[0m\u001b[0;34m[\u001b[0m\u001b[0;36m1\u001b[0m\u001b[0;34m]\u001b[0m\u001b[0;34m)\u001b[0m\u001b[0;34m\u001b[0m\u001b[0;34m\u001b[0m\u001b[0m\n\u001b[0;32m---> 45\u001b[0;31m     \u001b[0mu1\u001b[0m\u001b[0;34m=\u001b[0m\u001b[0mrecursive_process\u001b[0m\u001b[0;34m(\u001b[0m\u001b[0mf_half_a\u001b[0m\u001b[0;34m,\u001b[0m\u001b[0mfrozen_bits\u001b[0m\u001b[0;34m)\u001b[0m\u001b[0;34m\u001b[0m\u001b[0;34m\u001b[0m\u001b[0m\n\u001b[0m\u001b[1;32m     46\u001b[0m \u001b[0;34m\u001b[0m\u001b[0m\n\u001b[1;32m     47\u001b[0m     \u001b[0;31m#step2 right input a,u1_hat output u2_hat\u001b[0m\u001b[0;34m\u001b[0m\u001b[0;34m\u001b[0m\u001b[0;34m\u001b[0m\u001b[0m\n",
      "\u001b[0;32m<ipython-input-9-1fb4a551265f>\u001b[0m in \u001b[0;36mrecursive_process\u001b[0;34m(a, frozen_bits)\u001b[0m\n\u001b[1;32m     43\u001b[0m     \u001b[0mtmp1\u001b[0m\u001b[0;34m=\u001b[0m\u001b[0mnp\u001b[0m\u001b[0;34m.\u001b[0m\u001b[0msplit\u001b[0m\u001b[0;34m(\u001b[0m\u001b[0ma\u001b[0m\u001b[0;34m,\u001b[0m\u001b[0;36m2\u001b[0m\u001b[0;34m)\u001b[0m\u001b[0;34m\u001b[0m\u001b[0;34m\u001b[0m\u001b[0m\n\u001b[1;32m     44\u001b[0m     \u001b[0mf_half_a\u001b[0m\u001b[0;34m=\u001b[0m\u001b[0mchk\u001b[0m\u001b[0;34m(\u001b[0m\u001b[0mtmp1\u001b[0m\u001b[0;34m[\u001b[0m\u001b[0;36m0\u001b[0m\u001b[0;34m]\u001b[0m\u001b[0;34m,\u001b[0m\u001b[0mtmp1\u001b[0m\u001b[0;34m[\u001b[0m\u001b[0;36m1\u001b[0m\u001b[0;34m]\u001b[0m\u001b[0;34m)\u001b[0m\u001b[0;34m\u001b[0m\u001b[0;34m\u001b[0m\u001b[0m\n\u001b[0;32m---> 45\u001b[0;31m     \u001b[0mu1\u001b[0m\u001b[0;34m=\u001b[0m\u001b[0mrecursive_process\u001b[0m\u001b[0;34m(\u001b[0m\u001b[0mf_half_a\u001b[0m\u001b[0;34m,\u001b[0m\u001b[0mfrozen_bits\u001b[0m\u001b[0;34m)\u001b[0m\u001b[0;34m\u001b[0m\u001b[0;34m\u001b[0m\u001b[0m\n\u001b[0m\u001b[1;32m     46\u001b[0m \u001b[0;34m\u001b[0m\u001b[0m\n\u001b[1;32m     47\u001b[0m     \u001b[0;31m#step2 right input a,u1_hat output u2_hat\u001b[0m\u001b[0;34m\u001b[0m\u001b[0;34m\u001b[0m\u001b[0;34m\u001b[0m\u001b[0m\n",
      "\u001b[0;32m<ipython-input-9-1fb4a551265f>\u001b[0m in \u001b[0;36mrecursive_process\u001b[0;34m(a, frozen_bits)\u001b[0m\n\u001b[1;32m     43\u001b[0m     \u001b[0mtmp1\u001b[0m\u001b[0;34m=\u001b[0m\u001b[0mnp\u001b[0m\u001b[0;34m.\u001b[0m\u001b[0msplit\u001b[0m\u001b[0;34m(\u001b[0m\u001b[0ma\u001b[0m\u001b[0;34m,\u001b[0m\u001b[0;36m2\u001b[0m\u001b[0;34m)\u001b[0m\u001b[0;34m\u001b[0m\u001b[0;34m\u001b[0m\u001b[0m\n\u001b[1;32m     44\u001b[0m     \u001b[0mf_half_a\u001b[0m\u001b[0;34m=\u001b[0m\u001b[0mchk\u001b[0m\u001b[0;34m(\u001b[0m\u001b[0mtmp1\u001b[0m\u001b[0;34m[\u001b[0m\u001b[0;36m0\u001b[0m\u001b[0;34m]\u001b[0m\u001b[0;34m,\u001b[0m\u001b[0mtmp1\u001b[0m\u001b[0;34m[\u001b[0m\u001b[0;36m1\u001b[0m\u001b[0;34m]\u001b[0m\u001b[0;34m)\u001b[0m\u001b[0;34m\u001b[0m\u001b[0;34m\u001b[0m\u001b[0m\n\u001b[0;32m---> 45\u001b[0;31m     \u001b[0mu1\u001b[0m\u001b[0;34m=\u001b[0m\u001b[0mrecursive_process\u001b[0m\u001b[0;34m(\u001b[0m\u001b[0mf_half_a\u001b[0m\u001b[0;34m,\u001b[0m\u001b[0mfrozen_bits\u001b[0m\u001b[0;34m)\u001b[0m\u001b[0;34m\u001b[0m\u001b[0;34m\u001b[0m\u001b[0m\n\u001b[0m\u001b[1;32m     46\u001b[0m \u001b[0;34m\u001b[0m\u001b[0m\n\u001b[1;32m     47\u001b[0m     \u001b[0;31m#step2 right input a,u1_hat output u2_hat\u001b[0m\u001b[0;34m\u001b[0m\u001b[0;34m\u001b[0m\u001b[0;34m\u001b[0m\u001b[0m\n",
      "\u001b[0;32m<ipython-input-9-1fb4a551265f>\u001b[0m in \u001b[0;36mrecursive_process\u001b[0;34m(a, frozen_bits)\u001b[0m\n\u001b[1;32m     43\u001b[0m     \u001b[0mtmp1\u001b[0m\u001b[0;34m=\u001b[0m\u001b[0mnp\u001b[0m\u001b[0;34m.\u001b[0m\u001b[0msplit\u001b[0m\u001b[0;34m(\u001b[0m\u001b[0ma\u001b[0m\u001b[0;34m,\u001b[0m\u001b[0;36m2\u001b[0m\u001b[0;34m)\u001b[0m\u001b[0;34m\u001b[0m\u001b[0;34m\u001b[0m\u001b[0m\n\u001b[1;32m     44\u001b[0m     \u001b[0mf_half_a\u001b[0m\u001b[0;34m=\u001b[0m\u001b[0mchk\u001b[0m\u001b[0;34m(\u001b[0m\u001b[0mtmp1\u001b[0m\u001b[0;34m[\u001b[0m\u001b[0;36m0\u001b[0m\u001b[0;34m]\u001b[0m\u001b[0;34m,\u001b[0m\u001b[0mtmp1\u001b[0m\u001b[0;34m[\u001b[0m\u001b[0;36m1\u001b[0m\u001b[0;34m]\u001b[0m\u001b[0;34m)\u001b[0m\u001b[0;34m\u001b[0m\u001b[0;34m\u001b[0m\u001b[0m\n\u001b[0;32m---> 45\u001b[0;31m     \u001b[0mu1\u001b[0m\u001b[0;34m=\u001b[0m\u001b[0mrecursive_process\u001b[0m\u001b[0;34m(\u001b[0m\u001b[0mf_half_a\u001b[0m\u001b[0;34m,\u001b[0m\u001b[0mfrozen_bits\u001b[0m\u001b[0;34m)\u001b[0m\u001b[0;34m\u001b[0m\u001b[0;34m\u001b[0m\u001b[0m\n\u001b[0m\u001b[1;32m     46\u001b[0m \u001b[0;34m\u001b[0m\u001b[0m\n\u001b[1;32m     47\u001b[0m     \u001b[0;31m#step2 right input a,u1_hat output u2_hat\u001b[0m\u001b[0;34m\u001b[0m\u001b[0;34m\u001b[0m\u001b[0;34m\u001b[0m\u001b[0m\n",
      "\u001b[0;32m<ipython-input-9-1fb4a551265f>\u001b[0m in \u001b[0;36mrecursive_process\u001b[0;34m(a, frozen_bits)\u001b[0m\n\u001b[1;32m     43\u001b[0m     \u001b[0mtmp1\u001b[0m\u001b[0;34m=\u001b[0m\u001b[0mnp\u001b[0m\u001b[0;34m.\u001b[0m\u001b[0msplit\u001b[0m\u001b[0;34m(\u001b[0m\u001b[0ma\u001b[0m\u001b[0;34m,\u001b[0m\u001b[0;36m2\u001b[0m\u001b[0;34m)\u001b[0m\u001b[0;34m\u001b[0m\u001b[0;34m\u001b[0m\u001b[0m\n\u001b[1;32m     44\u001b[0m     \u001b[0mf_half_a\u001b[0m\u001b[0;34m=\u001b[0m\u001b[0mchk\u001b[0m\u001b[0;34m(\u001b[0m\u001b[0mtmp1\u001b[0m\u001b[0;34m[\u001b[0m\u001b[0;36m0\u001b[0m\u001b[0;34m]\u001b[0m\u001b[0;34m,\u001b[0m\u001b[0mtmp1\u001b[0m\u001b[0;34m[\u001b[0m\u001b[0;36m1\u001b[0m\u001b[0;34m]\u001b[0m\u001b[0;34m)\u001b[0m\u001b[0;34m\u001b[0m\u001b[0;34m\u001b[0m\u001b[0m\n\u001b[0;32m---> 45\u001b[0;31m     \u001b[0mu1\u001b[0m\u001b[0;34m=\u001b[0m\u001b[0mrecursive_process\u001b[0m\u001b[0;34m(\u001b[0m\u001b[0mf_half_a\u001b[0m\u001b[0;34m,\u001b[0m\u001b[0mfrozen_bits\u001b[0m\u001b[0;34m)\u001b[0m\u001b[0;34m\u001b[0m\u001b[0;34m\u001b[0m\u001b[0m\n\u001b[0m\u001b[1;32m     46\u001b[0m \u001b[0;34m\u001b[0m\u001b[0m\n\u001b[1;32m     47\u001b[0m     \u001b[0;31m#step2 right input a,u1_hat output u2_hat\u001b[0m\u001b[0;34m\u001b[0m\u001b[0;34m\u001b[0m\u001b[0;34m\u001b[0m\u001b[0m\n",
      "\u001b[0;32m<ipython-input-9-1fb4a551265f>\u001b[0m in \u001b[0;36mrecursive_process\u001b[0;34m(a, frozen_bits)\u001b[0m\n\u001b[1;32m     43\u001b[0m     \u001b[0mtmp1\u001b[0m\u001b[0;34m=\u001b[0m\u001b[0mnp\u001b[0m\u001b[0;34m.\u001b[0m\u001b[0msplit\u001b[0m\u001b[0;34m(\u001b[0m\u001b[0ma\u001b[0m\u001b[0;34m,\u001b[0m\u001b[0;36m2\u001b[0m\u001b[0;34m)\u001b[0m\u001b[0;34m\u001b[0m\u001b[0;34m\u001b[0m\u001b[0m\n\u001b[1;32m     44\u001b[0m     \u001b[0mf_half_a\u001b[0m\u001b[0;34m=\u001b[0m\u001b[0mchk\u001b[0m\u001b[0;34m(\u001b[0m\u001b[0mtmp1\u001b[0m\u001b[0;34m[\u001b[0m\u001b[0;36m0\u001b[0m\u001b[0;34m]\u001b[0m\u001b[0;34m,\u001b[0m\u001b[0mtmp1\u001b[0m\u001b[0;34m[\u001b[0m\u001b[0;36m1\u001b[0m\u001b[0;34m]\u001b[0m\u001b[0;34m)\u001b[0m\u001b[0;34m\u001b[0m\u001b[0;34m\u001b[0m\u001b[0m\n\u001b[0;32m---> 45\u001b[0;31m     \u001b[0mu1\u001b[0m\u001b[0;34m=\u001b[0m\u001b[0mrecursive_process\u001b[0m\u001b[0;34m(\u001b[0m\u001b[0mf_half_a\u001b[0m\u001b[0;34m,\u001b[0m\u001b[0mfrozen_bits\u001b[0m\u001b[0;34m)\u001b[0m\u001b[0;34m\u001b[0m\u001b[0;34m\u001b[0m\u001b[0m\n\u001b[0m\u001b[1;32m     46\u001b[0m \u001b[0;34m\u001b[0m\u001b[0m\n\u001b[1;32m     47\u001b[0m     \u001b[0;31m#step2 right input a,u1_hat output u2_hat\u001b[0m\u001b[0;34m\u001b[0m\u001b[0;34m\u001b[0m\u001b[0;34m\u001b[0m\u001b[0m\n",
      "\u001b[0;32m<ipython-input-9-1fb4a551265f>\u001b[0m in \u001b[0;36mrecursive_process\u001b[0;34m(a, frozen_bits)\u001b[0m\n\u001b[1;32m     43\u001b[0m     \u001b[0mtmp1\u001b[0m\u001b[0;34m=\u001b[0m\u001b[0mnp\u001b[0m\u001b[0;34m.\u001b[0m\u001b[0msplit\u001b[0m\u001b[0;34m(\u001b[0m\u001b[0ma\u001b[0m\u001b[0;34m,\u001b[0m\u001b[0;36m2\u001b[0m\u001b[0;34m)\u001b[0m\u001b[0;34m\u001b[0m\u001b[0;34m\u001b[0m\u001b[0m\n\u001b[1;32m     44\u001b[0m     \u001b[0mf_half_a\u001b[0m\u001b[0;34m=\u001b[0m\u001b[0mchk\u001b[0m\u001b[0;34m(\u001b[0m\u001b[0mtmp1\u001b[0m\u001b[0;34m[\u001b[0m\u001b[0;36m0\u001b[0m\u001b[0;34m]\u001b[0m\u001b[0;34m,\u001b[0m\u001b[0mtmp1\u001b[0m\u001b[0;34m[\u001b[0m\u001b[0;36m1\u001b[0m\u001b[0;34m]\u001b[0m\u001b[0;34m)\u001b[0m\u001b[0;34m\u001b[0m\u001b[0;34m\u001b[0m\u001b[0m\n\u001b[0;32m---> 45\u001b[0;31m     \u001b[0mu1\u001b[0m\u001b[0;34m=\u001b[0m\u001b[0mrecursive_process\u001b[0m\u001b[0;34m(\u001b[0m\u001b[0mf_half_a\u001b[0m\u001b[0;34m,\u001b[0m\u001b[0mfrozen_bits\u001b[0m\u001b[0;34m)\u001b[0m\u001b[0;34m\u001b[0m\u001b[0;34m\u001b[0m\u001b[0m\n\u001b[0m\u001b[1;32m     46\u001b[0m \u001b[0;34m\u001b[0m\u001b[0m\n\u001b[1;32m     47\u001b[0m     \u001b[0;31m#step2 right input a,u1_hat output u2_hat\u001b[0m\u001b[0;34m\u001b[0m\u001b[0;34m\u001b[0m\u001b[0;34m\u001b[0m\u001b[0m\n",
      "\u001b[0;32m<ipython-input-9-1fb4a551265f>\u001b[0m in \u001b[0;36mrecursive_process\u001b[0;34m(a, frozen_bits)\u001b[0m\n\u001b[1;32m     43\u001b[0m     \u001b[0mtmp1\u001b[0m\u001b[0;34m=\u001b[0m\u001b[0mnp\u001b[0m\u001b[0;34m.\u001b[0m\u001b[0msplit\u001b[0m\u001b[0;34m(\u001b[0m\u001b[0ma\u001b[0m\u001b[0;34m,\u001b[0m\u001b[0;36m2\u001b[0m\u001b[0;34m)\u001b[0m\u001b[0;34m\u001b[0m\u001b[0;34m\u001b[0m\u001b[0m\n\u001b[1;32m     44\u001b[0m     \u001b[0mf_half_a\u001b[0m\u001b[0;34m=\u001b[0m\u001b[0mchk\u001b[0m\u001b[0;34m(\u001b[0m\u001b[0mtmp1\u001b[0m\u001b[0;34m[\u001b[0m\u001b[0;36m0\u001b[0m\u001b[0;34m]\u001b[0m\u001b[0;34m,\u001b[0m\u001b[0mtmp1\u001b[0m\u001b[0;34m[\u001b[0m\u001b[0;36m1\u001b[0m\u001b[0;34m]\u001b[0m\u001b[0;34m)\u001b[0m\u001b[0;34m\u001b[0m\u001b[0;34m\u001b[0m\u001b[0m\n\u001b[0;32m---> 45\u001b[0;31m     \u001b[0mu1\u001b[0m\u001b[0;34m=\u001b[0m\u001b[0mrecursive_process\u001b[0m\u001b[0;34m(\u001b[0m\u001b[0mf_half_a\u001b[0m\u001b[0;34m,\u001b[0m\u001b[0mfrozen_bits\u001b[0m\u001b[0;34m)\u001b[0m\u001b[0;34m\u001b[0m\u001b[0;34m\u001b[0m\u001b[0m\n\u001b[0m\u001b[1;32m     46\u001b[0m \u001b[0;34m\u001b[0m\u001b[0m\n\u001b[1;32m     47\u001b[0m     \u001b[0;31m#step2 right input a,u1_hat output u2_hat\u001b[0m\u001b[0;34m\u001b[0m\u001b[0;34m\u001b[0m\u001b[0;34m\u001b[0m\u001b[0m\n",
      "\u001b[0;32m<ipython-input-9-1fb4a551265f>\u001b[0m in \u001b[0;36mrecursive_process\u001b[0;34m(a, frozen_bits)\u001b[0m\n\u001b[1;32m     24\u001b[0m     \u001b[0;32mif\u001b[0m \u001b[0ma\u001b[0m\u001b[0;34m.\u001b[0m\u001b[0mshape\u001b[0m\u001b[0;34m[\u001b[0m\u001b[0;36m0\u001b[0m\u001b[0;34m]\u001b[0m\u001b[0;34m==\u001b[0m\u001b[0;36m1\u001b[0m\u001b[0;34m:\u001b[0m\u001b[0;34m\u001b[0m\u001b[0;34m\u001b[0m\u001b[0m\n\u001b[1;32m     25\u001b[0m       \u001b[0;31m#frozen_bit or not\u001b[0m\u001b[0;34m\u001b[0m\u001b[0;34m\u001b[0m\u001b[0;34m\u001b[0m\u001b[0m\n\u001b[0;32m---> 26\u001b[0;31m       \u001b[0;32mif\u001b[0m \u001b[0mnp\u001b[0m\u001b[0;34m.\u001b[0m\u001b[0many\u001b[0m\u001b[0;34m(\u001b[0m\u001b[0mfrozen_bits\u001b[0m\u001b[0;34m==\u001b[0m\u001b[0mt\u001b[0m\u001b[0;34m)\u001b[0m\u001b[0;34m:\u001b[0m\u001b[0;34m\u001b[0m\u001b[0;34m\u001b[0m\u001b[0m\n\u001b[0m\u001b[1;32m     27\u001b[0m         \u001b[0mtmp0\u001b[0m\u001b[0;34m=\u001b[0m\u001b[0mnp\u001b[0m\u001b[0;34m.\u001b[0m\u001b[0mzeros\u001b[0m\u001b[0;34m(\u001b[0m\u001b[0;36m1\u001b[0m\u001b[0;34m)\u001b[0m\u001b[0;34m\u001b[0m\u001b[0;34m\u001b[0m\u001b[0m\n\u001b[1;32m     28\u001b[0m       \u001b[0;32melif\u001b[0m \u001b[0ma\u001b[0m\u001b[0;34m>=\u001b[0m\u001b[0;36m0\u001b[0m\u001b[0;34m:\u001b[0m\u001b[0;34m\u001b[0m\u001b[0;34m\u001b[0m\u001b[0m\n",
      "\u001b[0;31mNameError\u001b[0m: name 't' is not defined"
     ]
    }
   ],
   "metadata": {}
  },
  {
   "cell_type": "code",
   "execution_count": null,
   "source": [
    "EbNodB_range=np.arange(0,5.5,0.5)\n",
    "BLER=np.zeros(len(EbNodB_range))\n",
    "BER=np.zeros(len(EbNodB_range))\n",
    "MAX_ERR=30\n",
    "\n",
    "\n",
    "\n",
    "for i,EbNodB in enumerate(EbNodB_range):\n",
    "\n",
    "  count_noterr=0\n",
    "  count_all=0\n",
    "  count_err=0\n",
    "  count_ball=0\n",
    "  count_berr=0\n",
    "  \n",
    "  while count_err<MAX_ERR:\n",
    "\n",
    "    sourcecode,codeword_1D=generate_codeword(N,Gres) #1D-array codeword\n",
    "    codeword=codeword_1D[...,np.newaxis] \n",
    "    codeword=np.transpose(codeword) #2D-array codeword\n",
    "\n",
    "    RX_BPSK=AWGN_channel(EbNodB,codeword)\n",
    "\n",
    "    #受信信号の1列ごとの受け渡し(数値をx軸のみに変更)\n",
    "    y=RX_BPSK[0,:].real #1D-array codeword\n",
    "    #LLR\n",
    "    EbNo = 10 ** (EbNodB / 10)\n",
    "    No=1/EbNo\n",
    "    Lc=4*y/No\n",
    "    t=0\n",
    "    EST_codeword=np.full(N,-1)\n",
    "    SC_decoding(Lc)\n",
    "    #print(codeword,EST_codeword)\n",
    "    #復号をしない場合\n",
    "    #EST_codeword=np.sign(y)\n",
    "    #EST_codeword[EST_codeword==1]=0\n",
    "    #EST_codeword[EST_codeword==-1]=1\n",
    "    #EST_codeword=(EST_codeword@Gres)%2\n",
    "\n",
    "    #calculate block error rate\n",
    "    #print(sourcecode,EST_codeword)\n",
    "    if np.any(sourcecode!=EST_codeword):#BLOCK error check\n",
    "      count_err+=1\n",
    "    \n",
    "    count_all+=1\n",
    "\n",
    "    #calculate bit error rate \n",
    "    count_berr+=np.sum(sourcecode!=EST_codeword)\n",
    "    count_ball+=K\n",
    "\n",
    "    print(\"\\r\",\"count_all=\",count_all,\",count_err=\",count_err,\"count_ball=\"\\\n",
    "          ,count_ball,\"count_berr=\",count_berr,end=\"\")\n",
    "\n",
    "  print(\"\\n\",EbNodB,\"BLER=\",count_err/count_all,\"BER=\",count_berr/count_ball)\n",
    "\n",
    "  BLER[i]=count_err/count_all\n",
    "  BER[i]=count_berr/count_ball\n",
    "\n",
    "  if count_err/count_all<10**-5:\n",
    "    print(\"finish\")\n",
    "    break\n",
    "\n",
    "#output \"BLER\"\n",
    "\n",
    "filename=\"polarLLR_{}_{},SN_des={}\".format(N,K,design_SNR)\n",
    "\n",
    "with open(filename,'w') as f:\n",
    "\n",
    "    print(\"#N=\"+str(N),file=f)\n",
    "    print(\"#K=\"+str(K),file=f)\n",
    "    print(\"#EsNodB,BLER,BER\",file=f)      #この説明はプログラムによって変えましょう！！！！！！！\n",
    "    for i in range(len(EbNodB_range)):\n",
    "        print(str(EbNodB_range[i]),str(BLER[i]),str(BER[i]),file=f)\n"
   ],
   "outputs": [],
   "metadata": {}
  }
 ],
 "metadata": {
  "interpreter": {
   "hash": "5bed13c6ca82b80bcc3f2c0cc12d507f1ad15eb73f54f6076ce610d080eb7e68"
  },
  "kernelspec": {
   "name": "python3",
   "display_name": "Python 3.7.10 64-bit ('3.7.10': pyenv)"
  },
  "language_info": {
   "codemirror_mode": {
    "name": "ipython",
    "version": 3
   },
   "file_extension": ".py",
   "mimetype": "text/x-python",
   "name": "python",
   "nbconvert_exporter": "python",
   "pygments_lexer": "ipython3",
   "version": "3.7.10"
  },
  "orig_nbformat": 4
 },
 "nbformat": 4,
 "nbformat_minor": 2
}