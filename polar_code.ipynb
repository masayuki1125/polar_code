{
 "cells": [
  {
   "cell_type": "code",
   "execution_count": 15,
   "source": [
    "#必要なライブラリ、定数\n",
    "import sys\n",
    "sys.path.append(\"../channel\")\n",
    "from AWGN import _AWGN\n",
    "import ray\n",
    "import numpy as np\n",
    "import random\n",
    "import time\n",
    "import math\n",
    "from decimal import *\n",
    "random.seed(time.time())\n",
    "\n",
    "ch=_AWGN()"
   ],
   "outputs": [],
   "metadata": {}
  },
  {
   "cell_type": "code",
   "execution_count": 4,
   "source": [
    "class coding():\n",
    "    def __init__(self,N):\n",
    "        super().__init__()\n",
    "\n",
    "        self.N=N\n",
    "        self.R=0.5\n",
    "        self.K=math.floor(self.R*self.N)\n",
    "        self.design_SNR=4\n",
    "\n",
    "        #prepere constants\n",
    "        tmp2=np.log2(self.N)\n",
    "        self.itr_num=tmp2.astype(int)\n",
    "        self.frozen_bits,self.info_bits=\\\n",
    "            self.Bhattacharyya_bounds()\n",
    "\n",
    "        self.Gres=self.make_H()\n",
    "\n",
    "        self.filename=\"polar_code_{}_{}\".format(self.N,self.K)"
   ],
   "outputs": [],
   "metadata": {}
  },
  {
   "cell_type": "code",
   "execution_count": 16,
   "source": [
    "class coding(coding):\n",
    "  #frozen_bitの選択\n",
    "  def Bhattacharyya_bounds(self):\n",
    "    E=np.zeros(1,dtype=np.float128)\n",
    "    E =Decimal('10') ** (Decimal(str(self.design_SNR)) / Decimal('10'))\n",
    "    itr_num=np.log2(N)\n",
    "    itr_num=itr_num.astype(int)\n",
    "    z=np.zeros(self.N,dtype=np.float128)\n",
    "\n",
    "    #10^10かけて計算する\n",
    "\n",
    "    z[0]=math.exp(Decimal('-1')*Decimal(str(E)))\n",
    "\n",
    "    #print(\"E=\",np.exp(-E))\n",
    "\n",
    "    for j in range(1,itr_num+1):\n",
    "      tmp=2**(j)//2\n",
    "\n",
    "      for t in range(tmp):\n",
    "        T=z[t]\n",
    "        z[t]=Decimal('2')*Decimal(str(T))-Decimal(str(T))**Decimal('2')\n",
    "        z[tmp+t]=Decimal(str(T))**Decimal('2')\n",
    "    #print(z)\n",
    "    #np.savetxt(\"z\",z)\n",
    "    tmp=self.indices_of_elements(z,N)\n",
    "    frozen_bits=tmp[:self.N-self.K]\n",
    "    info_bits=tmp[self.N-self.K:]\n",
    "    return np.sort(frozen_bits),np.sort(info_bits)\n",
    "\n",
    "  @staticmethod\n",
    "  def indices_of_elements(v,l):\n",
    "    tmp=np.argsort(v)[::-1]\n",
    "    #print(tmp)\n",
    "    res=tmp[0:l]\n",
    "    return res"
   ],
   "outputs": [
    {
     "output_type": "error",
     "ename": "SyntaxError",
     "evalue": "invalid syntax (<ipython-input-16-7ba98a416e19>, line 1)",
     "traceback": [
      "\u001b[0;36m  File \u001b[0;32m\"<ipython-input-16-7ba98a416e19>\"\u001b[0;36m, line \u001b[0;32m1\u001b[0m\n\u001b[0;31m    class coding(coding)\u001b[0m\n\u001b[0m                        ^\u001b[0m\n\u001b[0;31mSyntaxError\u001b[0m\u001b[0;31m:\u001b[0m invalid syntax\n"
     ]
    }
   ],
   "metadata": {}
  },
  {
   "cell_type": "code",
   "execution_count": 6,
   "source": [
    "class coding(coding):\n",
    "  @staticmethod\n",
    "  def tensordot(A):\n",
    "    tmp0=np.zeros((A.shape[0],A.shape[1]),dtype=np.int)\n",
    "    tmp1=np.append(A,tmp0,axis=1)\n",
    "    #print(tmp1)\n",
    "    tmp2=np.append(A,A,axis=1)\n",
    "    #print(tmp2)\n",
    "    tmp3=np.append(tmp1,tmp2,axis=0)\n",
    "    #print(tmp3)\n",
    "    return tmp3\n",
    "\n",
    "  def make_H(self):\n",
    "    G2=np.array([[1,0],[1,1]],dtype=np.int)\n",
    "    Gres=G2\n",
    "    for _ in range(self.itr_num-1):\n",
    "      #print(i)\n",
    "      Gres=self.tensordot(Gres)\n",
    "    return Gres"
   ],
   "outputs": [],
   "metadata": {}
  },
  {
   "cell_type": "code",
   "execution_count": 7,
   "source": [
    "class encoding(coding):\n",
    "    def __init__(self,N):\n",
    "        super().__init__(N)\n",
    "    \n",
    "    def generate_information(self):\n",
    "        #generate information\n",
    "        information=np.random.randint(0,2,self.K)\n",
    "        return information"
   ],
   "outputs": [],
   "metadata": {}
  },
  {
   "cell_type": "code",
   "execution_count": 17,
   "source": [
    "class encoding(encoding):\n",
    "    def generate_U(self,information):\n",
    "        u_message=np.zeros(self.N)\n",
    "        u_message[self.info_bits]=information\n",
    "        return u_message"
   ],
   "outputs": [],
   "metadata": {}
  },
  {
   "cell_type": "code",
   "execution_count": 18,
   "source": [
    "class encoding(encoding):\n",
    "    def polar_encode(self):\n",
    "        information=self.generate_information()\n",
    "        u_message=self.generate_U(information)\n",
    "        codeword=(u_message@self.Gres)%2\n",
    "        return information,codeword"
   ],
   "outputs": [],
   "metadata": {}
  },
  {
   "cell_type": "code",
   "execution_count": 10,
   "source": [
    "#これを使ったほうが計算が早い\n",
    "'''\n",
    "%%add_to encoding\n",
    "def encode(self,u_message):\n",
    "    \"\"\"\n",
    "    Implements the polar transform on the given message in a recursive way (defined in Arikan's paper).\n",
    "    :param u_message: An integer array of N bits which are to be transformed;\n",
    "    :return: codedword -- result of the polar transform.\n",
    "    \"\"\"\n",
    "    u_message = np.array(u_message)\n",
    "\n",
    "    if len(u_message) == 1:\n",
    "        codeword = u_message\n",
    "    else:\n",
    "        u1u2 = np.logical_xor(u_message[::2] , u_message[1::2])\n",
    "        u2 = u_message[1::2]\n",
    "\n",
    "        codeword = np.concatenate([encode(u1u2), encode(u2)])\n",
    "    return codeword\n",
    "'''"
   ],
   "outputs": [
    {
     "output_type": "execute_result",
     "data": {
      "text/plain": [
       "'\\n%%add_to encoding\\ndef encode(self,u_message):\\n    \"\"\"\\n    Implements the polar transform on the given message in a recursive way (defined in Arikan\\'s paper).\\n    :param u_message: An integer array of N bits which are to be transformed;\\n    :return: codedword -- result of the polar transform.\\n    \"\"\"\\n    u_message = np.array(u_message)\\n\\n    if len(u_message) == 1:\\n        codeword = u_message\\n    else:\\n        u1u2 = np.logical_xor(u_message[::2] , u_message[1::2])\\n        u2 = u_message[1::2]\\n\\n        codeword = np.concatenate([encode(u1u2), encode(u2)])\\n    return codeword\\n'"
      ]
     },
     "metadata": {},
     "execution_count": 10
    }
   ],
   "metadata": {}
  },
  {
   "cell_type": "code",
   "execution_count": 11,
   "source": [
    "#0,1が逆になって設計されているので、ちゃんと治す必要あり\n",
    "\n",
    "class decoding(coding):\n",
    "  n=0\n",
    "  EST_information=np.array([])\n",
    "\n",
    "  def __init__(self,N):\n",
    "    super().__init__(N)\n",
    "\n",
    "  @staticmethod\n",
    "  def chk(llr_1,llr_2):\n",
    "    CHECK_NODE_TANH_THRES=30\n",
    "    res=np.zeros(len(llr_1))\n",
    "    for i in range(len(res)):\n",
    "\n",
    "      if abs(llr_1[i]) > CHECK_NODE_TANH_THRES and abs(llr_2[i]) > CHECK_NODE_TANH_THRES:\n",
    "        if llr_1[i] * llr_2[i] > 0:\n",
    "          # If both LLRs are of one sign, we return the minimum of their absolute values.\n",
    "          res[i]=min(abs(llr_1[i]), abs(llr_2[i]))\n",
    "        else:\n",
    "          # Otherwise, we return an opposite to the minimum of their absolute values.\n",
    "          res[i]=-1 * min(abs(llr_1[i]), abs(llr_2[i]))\n",
    "      else:\n",
    "        res[i]= 2 * np.arctanh(np.tanh(llr_1[i] / 2, ) * np.tanh(llr_2[i] / 2))\n",
    "    return res\n",
    "\n",
    "  def SC_decoding(self,a):\n",
    "    #interior node operation\n",
    "    if a.shape[0]==1:\n",
    "      #frozen_bit or not\n",
    "      if np.any(self.frozen_bits==decoding.n):\n",
    "        tmp0=np.zeros(1)\n",
    "      elif a>=0:\n",
    "        tmp0=np.zeros(1)\n",
    "      elif a<0:\n",
    "        tmp0=np.ones(1)\n",
    "      else:\n",
    "        print(\"err!\")\n",
    "        exit()\n",
    "      \n",
    "      if np.any(self.info_bits==decoding.n):\n",
    "        decoding.EST_information=np.append(decoding.EST_information,a)\n",
    "      #print(decoding.n)\n",
    "      #print(t)\n",
    "      decoding.n+=1\n",
    "      #if t>=N:\n",
    "        #exit()\n",
    "      return tmp0\n",
    "\n",
    "    #step1 left input a output u1_hat\n",
    "\n",
    "    tmp1=np.split(a,2)\n",
    "    f_half_a=self.chk(tmp1[0],tmp1[1])\n",
    "    u1=self.SC_decoding(f_half_a)\n",
    "\n",
    "    #step2 right input a,u1_hat output u2_hat \n",
    "    tmp2=np.split(a,2)\n",
    "    g_half_a=tmp2[1]+(1-2*u1)*tmp2[0] \n",
    "    u2=self.SC_decoding(g_half_a)\n",
    "  \n",
    "    #step3 up input u1,u2 output a_hat\n",
    "    res=np.concatenate([(u1+u2)%2,u2])\n",
    "    return res"
   ],
   "outputs": [],
   "metadata": {}
  },
  {
   "cell_type": "code",
   "execution_count": 19,
   "source": [
    "class decoding(decoding):\n",
    "    def polar_decode(self,Lc):\n",
    "        #initialize class variable\n",
    "        decoding.n=0\n",
    "        decoding.EST_information=np.array([])\n",
    "        self.SC_decoding(Lc)\n",
    "        res=decoding.EST_information\n",
    "        res=-1*np.sign(res)\n",
    "        EST_information=(res+1)/2\n",
    "\n",
    "        return EST_information"
   ],
   "outputs": [],
   "metadata": {}
  },
  {
   "cell_type": "code",
   "execution_count": 20,
   "source": [
    "#@ray.remote\n",
    "class polar_code(encoding,decoding):\n",
    "    def __init__(self,N):\n",
    "        super().__init__(N)\n",
    "\n",
    "    def polar_code(self,EbNodB):\n",
    "        \n",
    "\n",
    "        information,codeword=self.polar_encode()\n",
    "\n",
    "        Lc=-1*ch.generate_LLR(codeword,EbNodB)#デコーダが＋、ー逆になってしまうので-１をかける\n",
    "        \n",
    "        EST_information=self.polar_decode(Lc)\n",
    "        \n",
    "        return information,EST_information"
   ],
   "outputs": [],
   "metadata": {}
  },
  {
   "cell_type": "code",
   "execution_count": 21,
   "source": [
    "if __name__==\"__main__\":\n",
    "    \n",
    "    N=512\n",
    "    pc=polar_code(N)\n",
    "    \n",
    "    print(len(pc.info_bits))\n",
    "    information,EST_information=pc.polar_code(100)\n",
    "    print(len(information))\n",
    "    print(len(EST_information))\n",
    "    print(np.sum(information!=EST_information))\n",
    "\n",
    "    def output(EbNodB):\n",
    "      count_err=0\n",
    "      count_all=0\n",
    "      count_berr=0\n",
    "      count_ball=0\n",
    "      MAX_ERR=8\n",
    "\n",
    "      while count_err<MAX_ERR:\n",
    "\n",
    "        information,EST_information=pc.polar_code(EbNodB)\n",
    "      \n",
    "        if np.any(information!=EST_information):#BLOCK error check\n",
    "          count_err+=1\n",
    "        \n",
    "        count_all+=1\n",
    "\n",
    "        #calculate bit error rate \n",
    "        count_berr+=np.sum(information!=EST_information)\n",
    "        count_ball+=N\n",
    "\n",
    "        print(\"\\r\",\"count_all=\",count_all,\",count_err=\",count_err,\"count_ball=\"\\\n",
    "              ,count_ball,\"count_berr=\",count_berr,end=\"\")\n",
    "\n",
    "      print(\"\\n\")\n",
    "      print(\"BER=\",count_berr/count_ball)\n",
    "    \n",
    "    for EbNodB in range(-3,5):\n",
    "      output(EbNodB)"
   ],
   "outputs": [
    {
     "output_type": "stream",
     "name": "stdout",
     "text": [
      "256\n",
      "256\n",
      "256\n",
      "0\n",
      " count_all= 8 ,count_err= 8 count_ball= 4096 count_berr= 996\n",
      "\n",
      "BER= 0.2431640625\n",
      " count_all= 8 ,count_err= 8 count_ball= 4096 count_berr= 960\n",
      "\n",
      "BER= 0.234375\n",
      " count_all= 8 ,count_err= 8 count_ball= 4096 count_berr= 1014\n",
      "\n",
      "BER= 0.24755859375\n",
      " count_all= 8 ,count_err= 8 count_ball= 4096 count_berr= 944\n",
      "\n",
      "BER= 0.23046875\n",
      " count_all= 8 ,count_err= 8 count_ball= 4096 count_berr= 636\n",
      "\n",
      "BER= 0.1552734375\n",
      " count_all= 5 ,count_err= 3 count_ball= 2560 count_berr= 176"
     ]
    },
    {
     "output_type": "error",
     "ename": "KeyboardInterrupt",
     "evalue": "",
     "traceback": [
      "\u001b[0;31m---------------------------------------------------------------------------\u001b[0m",
      "\u001b[0;31mKeyboardInterrupt\u001b[0m                         Traceback (most recent call last)",
      "\u001b[0;32m<ipython-input-21-509f9441cecb>\u001b[0m in \u001b[0;36m<module>\u001b[0;34m\u001b[0m\n\u001b[1;32m     37\u001b[0m \u001b[0;34m\u001b[0m\u001b[0m\n\u001b[1;32m     38\u001b[0m     \u001b[0;32mfor\u001b[0m \u001b[0mEbNodB\u001b[0m \u001b[0;32min\u001b[0m \u001b[0mrange\u001b[0m\u001b[0;34m(\u001b[0m\u001b[0;34m-\u001b[0m\u001b[0;36m3\u001b[0m\u001b[0;34m,\u001b[0m\u001b[0;36m5\u001b[0m\u001b[0;34m)\u001b[0m\u001b[0;34m:\u001b[0m\u001b[0;34m\u001b[0m\u001b[0;34m\u001b[0m\u001b[0m\n\u001b[0;32m---> 39\u001b[0;31m       \u001b[0moutput\u001b[0m\u001b[0;34m(\u001b[0m\u001b[0mEbNodB\u001b[0m\u001b[0;34m)\u001b[0m\u001b[0;34m\u001b[0m\u001b[0;34m\u001b[0m\u001b[0m\n\u001b[0m",
      "\u001b[0;32m<ipython-input-21-509f9441cecb>\u001b[0m in \u001b[0;36moutput\u001b[0;34m(EbNodB)\u001b[0m\n\u001b[1;32m     19\u001b[0m       \u001b[0;32mwhile\u001b[0m \u001b[0mcount_err\u001b[0m\u001b[0;34m<\u001b[0m\u001b[0mMAX_ERR\u001b[0m\u001b[0;34m:\u001b[0m\u001b[0;34m\u001b[0m\u001b[0;34m\u001b[0m\u001b[0m\n\u001b[1;32m     20\u001b[0m \u001b[0;34m\u001b[0m\u001b[0m\n\u001b[0;32m---> 21\u001b[0;31m         \u001b[0minformation\u001b[0m\u001b[0;34m,\u001b[0m\u001b[0mEST_information\u001b[0m\u001b[0;34m=\u001b[0m\u001b[0mpc\u001b[0m\u001b[0;34m.\u001b[0m\u001b[0mpolar_code\u001b[0m\u001b[0;34m(\u001b[0m\u001b[0mEbNodB\u001b[0m\u001b[0;34m)\u001b[0m\u001b[0;34m\u001b[0m\u001b[0;34m\u001b[0m\u001b[0m\n\u001b[0m\u001b[1;32m     22\u001b[0m \u001b[0;34m\u001b[0m\u001b[0m\n\u001b[1;32m     23\u001b[0m         \u001b[0;32mif\u001b[0m \u001b[0mnp\u001b[0m\u001b[0;34m.\u001b[0m\u001b[0many\u001b[0m\u001b[0;34m(\u001b[0m\u001b[0minformation\u001b[0m\u001b[0;34m!=\u001b[0m\u001b[0mEST_information\u001b[0m\u001b[0;34m)\u001b[0m\u001b[0;34m:\u001b[0m\u001b[0;31m#BLOCK error check\u001b[0m\u001b[0;34m\u001b[0m\u001b[0;34m\u001b[0m\u001b[0m\n",
      "\u001b[0;32m<ipython-input-20-8a998aecb3d4>\u001b[0m in \u001b[0;36mpolar_code\u001b[0;34m(self, EbNodB)\u001b[0m\n\u001b[1;32m     11\u001b[0m         \u001b[0mLc\u001b[0m\u001b[0;34m=\u001b[0m\u001b[0;34m-\u001b[0m\u001b[0;36m1\u001b[0m\u001b[0;34m*\u001b[0m\u001b[0mch\u001b[0m\u001b[0;34m.\u001b[0m\u001b[0mgenerate_LLR\u001b[0m\u001b[0;34m(\u001b[0m\u001b[0mcodeword\u001b[0m\u001b[0;34m,\u001b[0m\u001b[0mEbNodB\u001b[0m\u001b[0;34m)\u001b[0m\u001b[0;31m#デコーダが＋、ー逆になってしまうので-１をかける\u001b[0m\u001b[0;34m\u001b[0m\u001b[0;34m\u001b[0m\u001b[0m\n\u001b[1;32m     12\u001b[0m \u001b[0;34m\u001b[0m\u001b[0m\n\u001b[0;32m---> 13\u001b[0;31m         \u001b[0mEST_information\u001b[0m\u001b[0;34m=\u001b[0m\u001b[0mself\u001b[0m\u001b[0;34m.\u001b[0m\u001b[0mpolar_decode\u001b[0m\u001b[0;34m(\u001b[0m\u001b[0mLc\u001b[0m\u001b[0;34m)\u001b[0m\u001b[0;34m\u001b[0m\u001b[0;34m\u001b[0m\u001b[0m\n\u001b[0m\u001b[1;32m     14\u001b[0m \u001b[0;34m\u001b[0m\u001b[0m\n\u001b[1;32m     15\u001b[0m         \u001b[0;32mreturn\u001b[0m \u001b[0minformation\u001b[0m\u001b[0;34m,\u001b[0m\u001b[0mEST_information\u001b[0m\u001b[0;34m\u001b[0m\u001b[0;34m\u001b[0m\u001b[0m\n",
      "\u001b[0;32m<ipython-input-19-4eafbee4f8cd>\u001b[0m in \u001b[0;36mpolar_decode\u001b[0;34m(self, Lc)\u001b[0m\n\u001b[1;32m      4\u001b[0m         \u001b[0mdecoding\u001b[0m\u001b[0;34m.\u001b[0m\u001b[0mn\u001b[0m\u001b[0;34m=\u001b[0m\u001b[0;36m0\u001b[0m\u001b[0;34m\u001b[0m\u001b[0;34m\u001b[0m\u001b[0m\n\u001b[1;32m      5\u001b[0m         \u001b[0mdecoding\u001b[0m\u001b[0;34m.\u001b[0m\u001b[0mEST_information\u001b[0m\u001b[0;34m=\u001b[0m\u001b[0mnp\u001b[0m\u001b[0;34m.\u001b[0m\u001b[0marray\u001b[0m\u001b[0;34m(\u001b[0m\u001b[0;34m[\u001b[0m\u001b[0;34m]\u001b[0m\u001b[0;34m)\u001b[0m\u001b[0;34m\u001b[0m\u001b[0;34m\u001b[0m\u001b[0m\n\u001b[0;32m----> 6\u001b[0;31m         \u001b[0mself\u001b[0m\u001b[0;34m.\u001b[0m\u001b[0mSC_decoding\u001b[0m\u001b[0;34m(\u001b[0m\u001b[0mLc\u001b[0m\u001b[0;34m)\u001b[0m\u001b[0;34m\u001b[0m\u001b[0;34m\u001b[0m\u001b[0m\n\u001b[0m\u001b[1;32m      7\u001b[0m         \u001b[0mres\u001b[0m\u001b[0;34m=\u001b[0m\u001b[0mdecoding\u001b[0m\u001b[0;34m.\u001b[0m\u001b[0mEST_information\u001b[0m\u001b[0;34m\u001b[0m\u001b[0;34m\u001b[0m\u001b[0m\n\u001b[1;32m      8\u001b[0m         \u001b[0mres\u001b[0m\u001b[0;34m=\u001b[0m\u001b[0;34m-\u001b[0m\u001b[0;36m1\u001b[0m\u001b[0;34m*\u001b[0m\u001b[0mnp\u001b[0m\u001b[0;34m.\u001b[0m\u001b[0msign\u001b[0m\u001b[0;34m(\u001b[0m\u001b[0mres\u001b[0m\u001b[0;34m)\u001b[0m\u001b[0;34m\u001b[0m\u001b[0;34m\u001b[0m\u001b[0m\n",
      "\u001b[0;32m<ipython-input-11-bae51339f3e9>\u001b[0m in \u001b[0;36mSC_decoding\u001b[0;34m(self, a)\u001b[0m\n\u001b[1;32m     51\u001b[0m \u001b[0;34m\u001b[0m\u001b[0m\n\u001b[1;32m     52\u001b[0m     \u001b[0mtmp1\u001b[0m\u001b[0;34m=\u001b[0m\u001b[0mnp\u001b[0m\u001b[0;34m.\u001b[0m\u001b[0msplit\u001b[0m\u001b[0;34m(\u001b[0m\u001b[0ma\u001b[0m\u001b[0;34m,\u001b[0m\u001b[0;36m2\u001b[0m\u001b[0;34m)\u001b[0m\u001b[0;34m\u001b[0m\u001b[0;34m\u001b[0m\u001b[0m\n\u001b[0;32m---> 53\u001b[0;31m     \u001b[0mf_half_a\u001b[0m\u001b[0;34m=\u001b[0m\u001b[0mself\u001b[0m\u001b[0;34m.\u001b[0m\u001b[0mchk\u001b[0m\u001b[0;34m(\u001b[0m\u001b[0mtmp1\u001b[0m\u001b[0;34m[\u001b[0m\u001b[0;36m0\u001b[0m\u001b[0;34m]\u001b[0m\u001b[0;34m,\u001b[0m\u001b[0mtmp1\u001b[0m\u001b[0;34m[\u001b[0m\u001b[0;36m1\u001b[0m\u001b[0;34m]\u001b[0m\u001b[0;34m)\u001b[0m\u001b[0;34m\u001b[0m\u001b[0;34m\u001b[0m\u001b[0m\n\u001b[0m\u001b[1;32m     54\u001b[0m     \u001b[0mu1\u001b[0m\u001b[0;34m=\u001b[0m\u001b[0mself\u001b[0m\u001b[0;34m.\u001b[0m\u001b[0mSC_decoding\u001b[0m\u001b[0;34m(\u001b[0m\u001b[0mf_half_a\u001b[0m\u001b[0;34m)\u001b[0m\u001b[0;34m\u001b[0m\u001b[0;34m\u001b[0m\u001b[0m\n\u001b[1;32m     55\u001b[0m \u001b[0;34m\u001b[0m\u001b[0m\n",
      "\u001b[0;32m<ipython-input-11-bae51339f3e9>\u001b[0m in \u001b[0;36mchk\u001b[0;34m(llr_1, llr_2)\u001b[0m\n\u001b[1;32m     14\u001b[0m     \u001b[0;32mfor\u001b[0m \u001b[0mi\u001b[0m \u001b[0;32min\u001b[0m \u001b[0mrange\u001b[0m\u001b[0;34m(\u001b[0m\u001b[0mlen\u001b[0m\u001b[0;34m(\u001b[0m\u001b[0mres\u001b[0m\u001b[0;34m)\u001b[0m\u001b[0;34m)\u001b[0m\u001b[0;34m:\u001b[0m\u001b[0;34m\u001b[0m\u001b[0;34m\u001b[0m\u001b[0m\n\u001b[1;32m     15\u001b[0m \u001b[0;34m\u001b[0m\u001b[0m\n\u001b[0;32m---> 16\u001b[0;31m       \u001b[0;32mif\u001b[0m \u001b[0mabs\u001b[0m\u001b[0;34m(\u001b[0m\u001b[0mllr_1\u001b[0m\u001b[0;34m[\u001b[0m\u001b[0mi\u001b[0m\u001b[0;34m]\u001b[0m\u001b[0;34m)\u001b[0m \u001b[0;34m>\u001b[0m \u001b[0mCHECK_NODE_TANH_THRES\u001b[0m \u001b[0;32mand\u001b[0m \u001b[0mabs\u001b[0m\u001b[0;34m(\u001b[0m\u001b[0mllr_2\u001b[0m\u001b[0;34m[\u001b[0m\u001b[0mi\u001b[0m\u001b[0;34m]\u001b[0m\u001b[0;34m)\u001b[0m \u001b[0;34m>\u001b[0m \u001b[0mCHECK_NODE_TANH_THRES\u001b[0m\u001b[0;34m:\u001b[0m\u001b[0;34m\u001b[0m\u001b[0;34m\u001b[0m\u001b[0m\n\u001b[0m\u001b[1;32m     17\u001b[0m         \u001b[0;32mif\u001b[0m \u001b[0mllr_1\u001b[0m\u001b[0;34m[\u001b[0m\u001b[0mi\u001b[0m\u001b[0;34m]\u001b[0m \u001b[0;34m*\u001b[0m \u001b[0mllr_2\u001b[0m\u001b[0;34m[\u001b[0m\u001b[0mi\u001b[0m\u001b[0;34m]\u001b[0m \u001b[0;34m>\u001b[0m \u001b[0;36m0\u001b[0m\u001b[0;34m:\u001b[0m\u001b[0;34m\u001b[0m\u001b[0;34m\u001b[0m\u001b[0m\n\u001b[1;32m     18\u001b[0m           \u001b[0;31m# If both LLRs are of one sign, we return the minimum of their absolute values.\u001b[0m\u001b[0;34m\u001b[0m\u001b[0;34m\u001b[0m\u001b[0;34m\u001b[0m\u001b[0m\n",
      "\u001b[0;31mKeyboardInterrupt\u001b[0m: "
     ]
    }
   ],
   "metadata": {}
  },
  {
   "cell_type": "code",
   "execution_count": null,
   "source": [],
   "outputs": [],
   "metadata": {}
  }
 ],
 "metadata": {
  "interpreter": {
   "hash": "5bed13c6ca82b80bcc3f2c0cc12d507f1ad15eb73f54f6076ce610d080eb7e68"
  },
  "kernelspec": {
   "name": "python3",
   "display_name": "Python 3.7.10 64-bit ('3.7.10': pyenv)"
  },
  "language_info": {
   "codemirror_mode": {
    "name": "ipython",
    "version": 3
   },
   "file_extension": ".py",
   "mimetype": "text/x-python",
   "name": "python",
   "nbconvert_exporter": "python",
   "pygments_lexer": "ipython3",
   "version": "3.7.10"
  },
  "orig_nbformat": 4
 },
 "nbformat": 4,
 "nbformat_minor": 2
}